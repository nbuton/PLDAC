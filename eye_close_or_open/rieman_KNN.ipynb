{
 "cells": [
  {
   "cell_type": "code",
   "execution_count": 1,
   "metadata": {},
   "outputs": [],
   "source": [
    "import mne\n",
    "from scipy.io import loadmat\n",
    "import numpy as np"
   ]
  },
  {
   "cell_type": "code",
   "execution_count": 2,
   "metadata": {},
   "outputs": [],
   "source": [
    "def file_to_data(fileName):\n",
    "    chnames = ['Fp1','Fp2','Fc5','Fz','Fc6','T7','Cz','T8','P7','P3','Pz','P4','P8','O1','Oz','O2','stim']\n",
    "    chtypes = ['eeg'] * 16 + ['stim']\n",
    "    info = mne.create_info(ch_names=chnames, sfreq=512,ch_types=chtypes, montage='standard_1020',verbose=False)\n",
    "    data = loadmat(fileName)[\"SIGNAL\"]\n",
    "    #On modifie pour avoir un dataset avec 1 : yeux ouvert et -1 yeux fermée\n",
    "    new_data=[]\n",
    "    yeux_ouvert=False\n",
    "    for k in range(len(data)):\n",
    "        if(yeux_ouvert==False):\n",
    "            tmp=np.append(data[k][1:17],-1)\n",
    "        else:\n",
    "            tmp=np.append(data[k][1:17],1)\n",
    "        new_data.append(tmp)\n",
    "        if(data[k][17]==1):\n",
    "            yeux_ouvert=True\n",
    "        if(data[k][18]==1):\n",
    "            yeux_ouvert=False\n",
    "    labels= [d[16] for d in new_data]\n",
    "    donnees = [d[:16] for d in new_data]\n",
    "    return donnees,labels"
   ]
  },
  {
   "cell_type": "code",
   "execution_count": 3,
   "metadata": {},
   "outputs": [],
   "source": [
    "donnees,labels = file_to_data(\"data/subject_01.mat\")"
   ]
  },
  {
   "cell_type": "code",
   "execution_count": 4,
   "metadata": {},
   "outputs": [],
   "source": [
    "import pyriemann\n",
    "from sklearn.model_selection import cross_val_predict\n",
    "from sklearn.metrics import classification_report\n",
    "from sklearn.linear_model import SGDClassifier"
   ]
  },
  {
   "cell_type": "code",
   "execution_count": 5,
   "metadata": {},
   "outputs": [],
   "source": [
    "def cross_val_riemann(donnees,labels,nb_trail):\n",
    "    nb_paquet=int(len(donnees)/nb_trail)\n",
    "    donnees = donnees[:nb_trail*nb_paquet]\n",
    "    X=np.array(np.split(np.array(donnees), nb_paquet))#Ntrial*Nchannels*Nsample\n",
    "    X=np.swapaxes(X,1,2)\n",
    "    #estimer la matrice de covariance\n",
    "    cov = pyriemann.estimation.Covariances().fit_transform(X)\n",
    "\n",
    "    #validation croisée\n",
    "    knn =  pyriemann.classification.KNearestNeighbor(n_neighbors=10)\n",
    "    \n",
    "    #On modifie les y pour qu'il y est qu'un chiffre tout les 52 enregistrement, on prendra dans un premier temps juste\n",
    "    #le premier label sur les 52 pour estimer les 52 suivant\n",
    "    labels = labels[:nb_trail*nb_paquet]\n",
    "    yTemp = np.array(np.split(np.array(labels), nb_paquet))\n",
    "    Y=[]\n",
    "    for u in yTemp:\n",
    "        if(np.mean(u)>0):\n",
    "            Y.append(1)\n",
    "        else:\n",
    "            Y.append(-1)\n",
    "    Y=np.array(Y)\n",
    "    y_pred = cross_val_predict(knn,cov,Y,cv=5)\n",
    "    rapport = classification_report(Y, y_pred,output_dict=True)\n",
    "    return rapport['micro avg'][\"f1-score\"]"
   ]
  },
  {
   "cell_type": "code",
   "execution_count": 7,
   "metadata": {},
   "outputs": [
    {
     "name": "stdout",
     "output_type": "stream",
     "text": [
      "250\n",
      "F1 Score riemann : 0.7578288100208769\n",
      "260\n",
      "F1 Score riemann : 0.7347826086956522\n",
      "270\n",
      "F1 Score riemann : 0.7426636568848759\n",
      "280\n",
      "F1 Score riemann : 0.7494145199063232\n",
      "290\n",
      "F1 Score riemann : 0.7433414043583535\n",
      "300\n",
      "F1 Score riemann : 0.7593984962406015\n",
      "310\n",
      "F1 Score riemann : 0.7487046632124352\n",
      "320\n",
      "F1 Score riemann : 0.7647058823529412\n",
      "330\n",
      "F1 Score riemann : 0.7327823691460055\n",
      "340\n",
      "F1 Score riemann : 0.7443181818181818\n",
      "350\n",
      "F1 Score riemann : 0.7426900584795322\n",
      "360\n",
      "F1 Score riemann : 0.7409638554216867\n",
      "370\n",
      "F1 Score riemann : 0.7368421052631579\n",
      "380\n",
      "F1 Score riemann : 0.746031746031746\n",
      "390\n",
      "F1 Score riemann : 0.7328990228013029\n",
      "400\n",
      "F1 Score riemann : 0.7424749163879598\n",
      "410\n",
      "F1 Score riemann : 0.7534246575342466\n",
      "420\n",
      "F1 Score riemann : 0.7333333333333333\n",
      "430\n",
      "F1 Score riemann : 0.7338129496402878\n",
      "440\n",
      "F1 Score riemann : 0.7169117647058824\n",
      "450\n",
      "F1 Score riemann : 0.7293233082706767\n",
      "460\n",
      "F1 Score riemann : 0.7423076923076923\n",
      "470\n",
      "F1 Score riemann : 0.7440944881889763\n",
      "480\n",
      "F1 Score riemann : 0.7309236947791165\n",
      "490\n",
      "F1 Score riemann : 0.7172131147540984\n"
     ]
    }
   ],
   "source": [
    "#512 Hz\n",
    "#On supprime les derniers echantillons pour avoir un multiple pile et donc des matrices completes\n",
    "tab_trail=[]\n",
    "result_f1Score=[]\n",
    "for mult in range(25,50):\n",
    "    nb_trail=mult*10\n",
    "    print(nb_trail)\n",
    "    tab_trail.append(nb_trail)\n",
    "    f1Score = cross_val_riemann(donnees,labels,nb_trail)\n",
    "    result_f1Score.append(f1Score)\n",
    "    print(\"F1 Score riemann : \"+str(f1Score))"
   ]
  },
  {
   "cell_type": "code",
   "execution_count": 8,
   "metadata": {},
   "outputs": [
    {
     "data": {
      "image/png": "[encoded data removed]",
      "text/plain": [
       "<Figure size 432x288 with 1 Axes>"
      ]
     },
     "metadata": {
      "needs_background": "light"
     },
     "output_type": "display_data"
    }
   ],
   "source": [
    "import matplotlib.pyplot as plt\n",
    "plt.plot(tab_trail,result_f1Score,label=\"riemmann\")\n",
    "plt.legend()\n",
    "plt.show()"
   ]
  },
  {
   "cell_type": "code",
   "execution_count": null,
   "metadata": {},
   "outputs": [],
   "source": []
  },
  {
   "cell_type": "code",
   "execution_count": null,
   "metadata": {},
   "outputs": [],
   "source": []
  }
 ],
 "metadata": {
  "kernelspec": {
   "display_name": "Python 3",
   "language": "python",
   "name": "python3"
  },
  "language_info": {
   "codemirror_mode": {
    "name": "ipython",
    "version": 3
   },
   "file_extension": ".py",
   "mimetype": "text/x-python",
   "name": "python",
   "nbconvert_exporter": "python",
   "pygments_lexer": "ipython3",
   "version": "3.6.7"
  }
 },
 "nbformat": 4,
 "nbformat_minor": 2
}
