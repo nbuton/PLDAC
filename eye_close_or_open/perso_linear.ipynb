{
 "cells": [
  {
   "cell_type": "code",
   "execution_count": 1,
   "metadata": {},
   "outputs": [],
   "source": [
    "f = open(\"subject_01.mat\")"
   ]
  },
  {
   "cell_type": "code",
   "execution_count": 2,
   "metadata": {},
   "outputs": [],
   "source": [
    "import mne\n",
    "from scipy.io import loadmat\n",
    "import numpy as np"
   ]
  },
  {
   "cell_type": "code",
   "execution_count": 3,
   "metadata": {},
   "outputs": [
    {
     "name": "stdout",
     "output_type": "stream",
     "text": [
      "[     0.         -16639.796875     1075.2641602    7197.5185547\n",
      "   1501.6668701   -4080.4909668     872.66534424  -7446.5708008\n",
      "  -3852.1730957    1030.7530518   -8910.7548828     959.37817383\n",
      "  -2181.5031738    8054.1430664  -10051.151367    13269.295898\n",
      " -19776.359375        0.              0.        ]\n",
      "19\n"
     ]
    }
   ],
   "source": [
    "chnames = ['Fp1','Fp2','Fc5','Fz','Fc6','T7','Cz','T8','P7','P3','Pz','P4','P8','O1','Oz','O2','stim']\n",
    "chtypes = ['eeg'] * 16 + ['stim']\n",
    "info = mne.create_info(ch_names=chnames, sfreq=512,ch_types=chtypes, montage='standard_1020',verbose=False)\n",
    "data = loadmat(\"subject_01.mat\")[\"SIGNAL\"]\n",
    "\n",
    "print(data[0])\n",
    "print(len(data[0]))"
   ]
  },
  {
   "cell_type": "code",
   "execution_count": 4,
   "metadata": {},
   "outputs": [
    {
     "data": {
      "text/plain": [
       "<Figure size 640x480 with 1 Axes>"
      ]
     },
     "metadata": {},
     "output_type": "display_data"
    }
   ],
   "source": [
    "import matplotlib.pyplot as plt\n",
    "for k in range(16):\n",
    "    plt.plot([d[0] for d in data],[d[k] for d in data])\n",
    "plt.show()"
   ]
  },
  {
   "cell_type": "code",
   "execution_count": 5,
   "metadata": {},
   "outputs": [
    {
     "data": {
      "text/plain": [
       "'\\nColonne 1 : timestamp\\nColonne 2 à 17 : les données des 16 éléctrodes\\nColonne 18 : quand on passe aux yeux sont fermé\\nColone 19 : quand on passe aux yeux sont ouvert\\nfilled with zeros, except at the timestamp corresponding to the beginning of\\nthe block for condition 1 (resp. 2), when the row gets a value of one.\\n'"
      ]
     },
     "execution_count": 5,
     "metadata": {},
     "output_type": "execute_result"
    }
   ],
   "source": [
    "\"\"\"\n",
    "Colonne 1 : timestamp\n",
    "Colonne 2 à 17 : les données des 16 éléctrodes\n",
    "Colonne 18 : quand on passe aux yeux sont fermé\n",
    "Colone 19 : quand on passe aux yeux sont ouvert\n",
    "filled with zeros, except at the timestamp corresponding to the beginning of\n",
    "the block for condition 1 (resp. 2), when the row gets a value of one.\n",
    "\"\"\""
   ]
  },
  {
   "cell_type": "code",
   "execution_count": 6,
   "metadata": {},
   "outputs": [
    {
     "name": "stdout",
     "output_type": "stream",
     "text": [
      "0 : Je ferme les yeux\n",
      "35511 : J'ouvre les yeux\n",
      "45179 : Je ferme les yeux\n",
      "53413 : J'ouvre les yeux\n",
      "61886 : Je ferme les yeux\n",
      "69812 : J'ouvre les yeux\n",
      "78140 : Je ferme les yeux\n",
      "85802 : J'ouvre les yeux\n",
      "93556 : Je ferme les yeux\n",
      "101416 : J'ouvre les yeux\n",
      "109193 : Je ferme les yeux\n"
     ]
    }
   ],
   "source": [
    "#On localise les indices des 1\n",
    "print(\"0 : Je ferme les yeux\")\n",
    "for k in range(len(data)):\n",
    "    if(data[k][17]==1):\n",
    "        print(str(k)+\" : J'ouvre les yeux\")\n",
    "    if(data[k][18]==1):\n",
    "        print(str(k)+\" : Je ferme les yeux\")"
   ]
  },
  {
   "cell_type": "code",
   "execution_count": 7,
   "metadata": {},
   "outputs": [],
   "source": [
    "#On modifie pour avoir un dataset avec 1 : yeux ouvert et -1 yeux fermée\n",
    "new_data=[]\n",
    "yeux_ouvert=False\n",
    "for k in range(len(data)):\n",
    "    if(yeux_ouvert==False):\n",
    "        tmp=np.append(data[k][1:17],-1)\n",
    "    else:\n",
    "        tmp=np.append(data[k][1:17],1)\n",
    "    new_data.append(tmp)\n",
    "    if(data[k][17]==1):\n",
    "        yeux_ouvert=True\n",
    "    if(data[k][18]==1):\n",
    "        yeux_ouvert=False"
   ]
  },
  {
   "cell_type": "code",
   "execution_count": 8,
   "metadata": {},
   "outputs": [
    {
     "name": "stdout",
     "output_type": "stream",
     "text": [
      "119808\n",
      "17\n"
     ]
    }
   ],
   "source": [
    "print(len(new_data))\n",
    "print(len(new_data[0]))"
   ]
  },
  {
   "cell_type": "code",
   "execution_count": 9,
   "metadata": {},
   "outputs": [
    {
     "name": "stdout",
     "output_type": "stream",
     "text": [
      "42000\n",
      "77808\n"
     ]
    }
   ],
   "source": [
    "nbOuvert=0\n",
    "nbFermee=0\n",
    "ens_yeux_fermee=[]\n",
    "ens_yeux_ouvert=[]\n",
    "for d in new_data:\n",
    "    if(d[16]==1):\n",
    "        nbOuvert+=1\n",
    "        ens_yeux_ouvert.append(d)\n",
    "    elif(d[16]==-1):\n",
    "        nbFermee+=1\n",
    "        ens_yeux_fermee.append(d)\n",
    "print(nbOuvert)\n",
    "print(nbFermee)"
   ]
  },
  {
   "cell_type": "code",
   "execution_count": 10,
   "metadata": {},
   "outputs": [
    {
     "name": "stdout",
     "output_type": "stream",
     "text": [
      "42000\n"
     ]
    }
   ],
   "source": [
    "min_sample=min(nbOuvert,nbFermee)\n",
    "print(min_sample)"
   ]
  },
  {
   "cell_type": "code",
   "execution_count": 11,
   "metadata": {},
   "outputs": [],
   "source": [
    "np.random.shuffle(ens_yeux_fermee)\n",
    "np.random.shuffle(ens_yeux_ouvert)\n",
    "ens_yeux_fermee = ens_yeux_fermee[:min_sample]\n",
    "ens_yeux_ouvert = ens_yeux_ouvert[:min_sample]\n"
   ]
  },
  {
   "cell_type": "code",
   "execution_count": 12,
   "metadata": {},
   "outputs": [
    {
     "name": "stdout",
     "output_type": "stream",
     "text": [
      "42000\n",
      "42000\n"
     ]
    }
   ],
   "source": [
    "print(len(ens_yeux_fermee))\n",
    "print(len(ens_yeux_ouvert))"
   ]
  },
  {
   "cell_type": "code",
   "execution_count": 13,
   "metadata": {},
   "outputs": [],
   "source": [
    "data = ens_yeux_fermee+ens_yeux_ouvert\n",
    "np.random.shuffle(data)\n",
    "prop=0.8\n",
    "ens_train=data[:int(len(data)*prop)]\n",
    "ens_test=data[int(len(data)*prop):]"
   ]
  },
  {
   "cell_type": "code",
   "execution_count": 14,
   "metadata": {},
   "outputs": [],
   "source": [
    "def pred(w,data):\n",
    "    somme=0\n",
    "    for k in range(len(w)):\n",
    "        somme+=w[k]*data[k]\n",
    "    return somme"
   ]
  },
  {
   "cell_type": "code",
   "execution_count": 30,
   "metadata": {},
   "outputs": [],
   "source": [
    "def miseAjoutPoid(w,d,l):\n",
    "    pas=0.0001\n",
    "    for k in range(len(w)):\n",
    "        w[k] = w[k] - pas*-l*d[k]\n",
    "    return w"
   ]
  },
  {
   "cell_type": "code",
   "execution_count": 39,
   "metadata": {},
   "outputs": [],
   "source": [
    "def apprentissage(batch_data,batch_label,w):\n",
    "    for k in range(len(batch_data)):\n",
    "        prediction = pred(w,batch_data[k])\n",
    "        if(prediction*batch_label[k]<0):\n",
    "            w=miseAjoutPoid(w,batch_data[k],batch_label[k])            "
   ]
  },
  {
   "cell_type": "code",
   "execution_count": 40,
   "metadata": {},
   "outputs": [],
   "source": [
    "labels_train = [d[16] for d in ens_train]\n",
    "donnees_train = [d[:16] for d in ens_train]"
   ]
  },
  {
   "cell_type": "code",
   "execution_count": 41,
   "metadata": {},
   "outputs": [
    {
     "name": "stdout",
     "output_type": "stream",
     "text": [
      "[-0.15917372  0.12842456 -0.8863346  -0.00148862  0.9829083   0.76941328\n",
      " -0.71241396 -0.01853682 -0.69131347 -0.94343907 -0.06491946  0.37231047\n",
      "  0.49430515  0.92979187  0.42557949  0.5982523 ]\n",
      "[  28.01238387  305.32902256  -30.22724104  229.25181335   59.46232674\n",
      " -137.57564363   15.73506787  178.22124904  -56.68979086 -263.83675577\n",
      "   74.40879907   27.34537204   67.01957168  164.97131903 -108.69763211\n",
      "  -65.02161466]\n"
     ]
    }
   ],
   "source": [
    "W = 2*np.random.random_sample((16))-1\n",
    "print(W)\n",
    "for _ in range(10):\n",
    "    apprentissage(donnees_train,labels_train,W)\n",
    "print(W)"
   ]
  },
  {
   "cell_type": "code",
   "execution_count": 42,
   "metadata": {},
   "outputs": [
    {
     "name": "stdout",
     "output_type": "stream",
     "text": [
      "0.8432738095238095\n"
     ]
    }
   ],
   "source": [
    "labels_test = [d[16] for d in ens_test]\n",
    "donnees_test = [d[:16] for d in ens_test]\n",
    "prediction_test = pred(W,donnees_test)\n",
    "bonnePred=0\n",
    "for k in range(len(ens_test)):\n",
    "    y_pred = pred(W,donnees_test[k])\n",
    "    y_reel = labels_test[k]\n",
    "    if((y_pred >0 and y_reel==1) or (y_pred<0 and y_reel==-1) ):\n",
    "        bonnePred+=1\n",
    "print(bonnePred/len(ens_test))"
   ]
  }
 ],
 "metadata": {
  "kernelspec": {
   "display_name": "Python 3",
   "language": "python",
   "name": "python3"
  },
  "language_info": {
   "codemirror_mode": {
    "name": "ipython",
    "version": 3
   },
   "file_extension": ".py",
   "mimetype": "text/x-python",
   "name": "python",
   "nbconvert_exporter": "python",
   "pygments_lexer": "ipython3",
   "version": "3.6.7"
  }
 },
 "nbformat": 4,
 "nbformat_minor": 2
}
