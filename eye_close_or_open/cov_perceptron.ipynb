{
 "cells": [
  {
   "cell_type": "code",
   "execution_count": 1,
   "metadata": {},
   "outputs": [],
   "source": [
    "import mne\n",
    "from scipy.io import loadmat\n",
    "import numpy as np"
   ]
  },
  {
   "cell_type": "code",
   "execution_count": 2,
   "metadata": {},
   "outputs": [],
   "source": [
    "def file_to_data(fileName):\n",
    "    chnames = ['Fp1','Fp2','Fc5','Fz','Fc6','T7','Cz','T8','P7','P3','Pz','P4','P8','O1','Oz','O2','stim']\n",
    "    chtypes = ['eeg'] * 16 + ['stim']\n",
    "    info = mne.create_info(ch_names=chnames, sfreq=512,ch_types=chtypes, montage='standard_1020',verbose=False)\n",
    "    data = loadmat(fileName)[\"SIGNAL\"]\n",
    "    #On modifie pour avoir un dataset avec 1 : yeux ouvert et -1 yeux fermée\n",
    "    new_data=[]\n",
    "    yeux_ouvert=False\n",
    "    for k in range(len(data)):\n",
    "        if(yeux_ouvert==False):\n",
    "            tmp=np.append(data[k][1:17],-1)\n",
    "        else:\n",
    "            tmp=np.append(data[k][1:17],1)\n",
    "        new_data.append(tmp)\n",
    "        if(data[k][17]==1):\n",
    "            yeux_ouvert=True\n",
    "        if(data[k][18]==1):\n",
    "            yeux_ouvert=False\n",
    "    labels= [d[16] for d in new_data]\n",
    "    donnees = [d[:16] for d in new_data]\n",
    "    return donnees,labels"
   ]
  },
  {
   "cell_type": "code",
   "execution_count": 3,
   "metadata": {},
   "outputs": [],
   "source": [
    "donnees,labels = file_to_data(\"data/subject_01.mat\")"
   ]
  },
  {
   "cell_type": "code",
   "execution_count": 4,
   "metadata": {},
   "outputs": [],
   "source": [
    "import pyriemann\n",
    "from sklearn.model_selection import cross_val_predict\n",
    "from sklearn.metrics import classification_report\n",
    "from sklearn.linear_model import SGDClassifier"
   ]
  },
  {
   "cell_type": "code",
   "execution_count": 11,
   "metadata": {},
   "outputs": [],
   "source": [
    "def cross_val_riemann(donnees,labels,nb_trail):\n",
    "    nb_paquet=int(len(donnees)/nb_trail)\n",
    "    donnees = donnees[:nb_trail*nb_paquet]\n",
    "    X=np.array(np.split(np.array(donnees), nb_paquet))#Ntrial*Nchannels*Nsample\n",
    "    X=np.swapaxes(X,1,2)\n",
    "    #estimer la matrice de covariance\n",
    "    cov = pyriemann.estimation.Covariances().fit_transform(X)\n",
    "\n",
    "    cov = cov.reshape((len(cov),len(cov[0])*len(cov[0][0])))\n",
    "\n",
    "\n",
    "    #validation croisée\n",
    "    clf = SGDClassifier(loss=\"perceptron\", eta0=1e-4, learning_rate=\"constant\", penalty=None,tol=1e-1,max_iter=10000,shuffle=True)\n",
    "    #On modifie les y pour qu'il y est qu'un chiffre tout les 52 enregistrement, on prendra dans un premier temps juste\n",
    "    #le premier label sur les 52 pour estimer les 52 suivant\n",
    "    labels = labels[:nb_trail*nb_paquet]\n",
    "    yTemp = np.array(np.split(np.array(labels), nb_paquet))\n",
    "    Y=[]\n",
    "    for u in yTemp:\n",
    "        if(np.mean(u)>0):\n",
    "            Y.append(1)\n",
    "        else:\n",
    "            Y.append(-1)\n",
    "    Y=np.array(Y)\n",
    "    y_pred = cross_val_predict(clf,cov,Y,cv=5)\n",
    "    rapport = classification_report(Y, y_pred,output_dict=True)\n",
    "    return rapport['micro avg'][\"f1-score\"]"
   ]
  },
  {
   "cell_type": "code",
   "execution_count": 12,
   "metadata": {},
   "outputs": [
    {
     "name": "stdout",
     "output_type": "stream",
     "text": [
      "20\n",
      "F1 Score riemann : 0.6889816360601002\n",
      "30\n",
      "F1 Score riemann : 0.6536438767843726\n",
      "40\n",
      "F1 Score riemann : 0.6901502504173622\n",
      "50\n",
      "F1 Score riemann : 0.6919866444073456\n",
      "60\n",
      "F1 Score riemann : 0.6092184368737475\n",
      "70\n",
      "F1 Score riemann : 0.6803039158386909\n",
      "80\n",
      "F1 Score riemann : 0.6526386105544422\n",
      "90\n",
      "F1 Score riemann : 0.6566491359879789\n",
      "100\n",
      "F1 Score riemann : 0.6861435726210351\n",
      "110\n",
      "F1 Score riemann : 0.6492194674012856\n",
      "120\n",
      "F1 Score riemann : 0.5881763527054108\n",
      "130\n",
      "F1 Score riemann : 0.5667752442996743\n",
      "140\n",
      "F1 Score riemann : 0.5614035087719298\n",
      "150\n",
      "F1 Score riemann : 0.606516290726817\n",
      "160\n",
      "F1 Score riemann : 0.5962566844919787\n",
      "170\n",
      "F1 Score riemann : 0.59375\n",
      "180\n",
      "F1 Score riemann : 0.6390977443609023\n",
      "190\n",
      "F1 Score riemann : 0.5761904761904761\n",
      "200\n",
      "F1 Score riemann : 0.6043405676126878\n",
      "210\n",
      "F1 Score riemann : 0.5456140350877193\n",
      "220\n",
      "F1 Score riemann : 0.5625\n",
      "230\n",
      "F1 Score riemann : 0.5038461538461538\n",
      "240\n",
      "F1 Score riemann : 0.45090180360721444\n",
      "250\n",
      "F1 Score riemann : 0.4697286012526096\n",
      "260\n",
      "F1 Score riemann : 0.5152173913043478\n",
      "270\n",
      "F1 Score riemann : 0.5011286681715575\n",
      "280\n",
      "F1 Score riemann : 0.522248243559719\n",
      "290\n",
      "F1 Score riemann : 0.5883777239709443\n",
      "300\n",
      "F1 Score riemann : 0.5238095238095238\n",
      "310\n",
      "F1 Score riemann : 0.6113989637305699\n",
      "320\n",
      "F1 Score riemann : 0.5053475935828877\n",
      "330\n",
      "F1 Score riemann : 0.5041322314049587\n",
      "340\n",
      "F1 Score riemann : 0.46875\n",
      "350\n",
      "F1 Score riemann : 0.5497076023391813\n",
      "360\n",
      "F1 Score riemann : 0.5271084337349398\n",
      "370\n",
      "F1 Score riemann : 0.5975232198142415\n",
      "380\n",
      "F1 Score riemann : 0.546031746031746\n",
      "390\n",
      "F1 Score riemann : 0.5374592833876222\n",
      "400\n",
      "F1 Score riemann : 0.5785953177257525\n",
      "410\n",
      "F1 Score riemann : 0.5856164383561644\n",
      "420\n",
      "F1 Score riemann : 0.49473684210526314\n",
      "430\n",
      "F1 Score riemann : 0.5107913669064749\n",
      "440\n",
      "F1 Score riemann : 0.5294117647058824\n",
      "450\n",
      "F1 Score riemann : 0.5526315789473685\n",
      "460\n",
      "F1 Score riemann : 0.4653846153846154\n",
      "470\n",
      "F1 Score riemann : 0.562992125984252\n",
      "480\n",
      "F1 Score riemann : 0.5742971887550201\n",
      "490\n",
      "F1 Score riemann : 0.48360655737704916\n"
     ]
    }
   ],
   "source": [
    "#512 Hz\n",
    "#On prend 52 trial par échantillon pour avoir un temps de reaction d'environ 0,1015625s\n",
    "#On supprime les derniers echantillons pour avoir un multiple de 52 et donc des matrices completes\n",
    "tab_trail=[]\n",
    "result_f1Score=[]\n",
    "for mult in range(2,50):\n",
    "    nb_trail=mult*10\n",
    "    print(nb_trail)\n",
    "    tab_trail.append(nb_trail)\n",
    "    f1Score = cross_val_riemann(donnees,labels,nb_trail)\n",
    "    result_f1Score.append(f1Score)\n",
    "    print(\"F1 Score riemann : \"+str(f1Score))"
   ]
  },
  {
   "cell_type": "code",
   "execution_count": 13,
   "metadata": {},
   "outputs": [
    {
     "data": {
      "image/png": "[encoded data removed]",
      "text/plain": [
       "<Figure size 432x288 with 1 Axes>"
      ]
     },
     "metadata": {
      "needs_background": "light"
     },
     "output_type": "display_data"
    }
   ],
   "source": [
    "import matplotlib.pyplot as plt\n",
    "plt.plot(tab_trail,result_f1Score,label=\"riemmann\")\n",
    "plt.legend()\n",
    "plt.show()"
   ]
  },
  {
   "cell_type": "code",
   "execution_count": null,
   "metadata": {},
   "outputs": [],
   "source": []
  }
 ],
 "metadata": {
  "kernelspec": {
   "display_name": "Python 3",
   "language": "python",
   "name": "python3"
  },
  "language_info": {
   "codemirror_mode": {
    "name": "ipython",
    "version": 3
   },
   "file_extension": ".py",
   "mimetype": "text/x-python",
   "name": "python",
   "nbconvert_exporter": "python",
   "pygments_lexer": "ipython3",
   "version": "3.6.7"
  }
 },
 "nbformat": 4,
 "nbformat_minor": 2
}
