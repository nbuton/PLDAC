{
 "cells": [
  {
   "cell_type": "code",
   "execution_count": 1,
   "metadata": {},
   "outputs": [],
   "source": [
    "import mne\n",
    "from scipy.io import loadmat\n",
    "import numpy as np"
   ]
  },
  {
   "cell_type": "code",
   "execution_count": 2,
   "metadata": {},
   "outputs": [],
   "source": [
    "def file_to_data(fileName):\n",
    "    chnames = ['Fp1','Fp2','Fc5','Fz','Fc6','T7','Cz','T8','P7','P3','Pz','P4','P8','O1','Oz','O2','stim']\n",
    "    chtypes = ['eeg'] * 16 + ['stim']\n",
    "    info = mne.create_info(ch_names=chnames, sfreq=512,ch_types=chtypes, montage='standard_1020',verbose=False)\n",
    "    data = loadmat(fileName)[\"SIGNAL\"]\n",
    "    #On modifie pour avoir un dataset avec 1 : yeux ouvert et -1 yeux fermée\n",
    "    new_data=[]\n",
    "    yeux_ouvert=False\n",
    "    for k in range(len(data)):\n",
    "        if(yeux_ouvert==False):\n",
    "            tmp=np.append(data[k][1:17],-1)\n",
    "        else:\n",
    "            tmp=np.append(data[k][1:17],1)\n",
    "        new_data.append(tmp)\n",
    "        if(data[k][17]==1):\n",
    "            yeux_ouvert=True\n",
    "        if(data[k][18]==1):\n",
    "            yeux_ouvert=False\n",
    "    labels= [d[16] for d in new_data]\n",
    "    donnees = [d[:16] for d in new_data]\n",
    "    return donnees,labels"
   ]
  },
  {
   "cell_type": "code",
   "execution_count": 3,
   "metadata": {},
   "outputs": [],
   "source": [
    "donnees,labels = file_to_data(\"data/subject_01.mat\")"
   ]
  },
  {
   "cell_type": "code",
   "execution_count": 9,
   "metadata": {},
   "outputs": [],
   "source": [
    "from sklearn.model_selection import cross_val_predict\n",
    "from sklearn.neighbors import KNeighborsClassifier\n",
    "from sklearn.metrics import classification_report\n",
    "import matplotlib.pyplot as plt"
   ]
  },
  {
   "cell_type": "code",
   "execution_count": 10,
   "metadata": {},
   "outputs": [
    {
     "name": "stdout",
     "output_type": "stream",
     "text": [
      "75.0% du dataset pour le train\n",
      "F1 Score : 0.5092481303418803\n",
      "80.0% du dataset pour le train\n",
      "F1 Score : 0.6104266826923077\n",
      "83.33333333333334% du dataset pour le train\n",
      "F1 Score : 0.5875734508547008\n",
      "85.71428571428571% du dataset pour le train\n",
      "F1 Score : 0.6223290598290598\n",
      "87.5% du dataset pour le train\n",
      "F1 Score : 0.6827256944444444\n",
      "88.88888888888889% du dataset pour le train\n",
      "F1 Score : 0.6910974225427351\n",
      "90.0% du dataset pour le train\n",
      "F1 Score : 0.7627286992521367\n",
      "90.9090909090909% du dataset pour le train\n",
      "F1 Score : 0.736770499465812\n",
      "91.66666666666666% du dataset pour le train\n",
      "F1 Score : 0.7977514022435896\n",
      "92.3076923076923% du dataset pour le train\n",
      "F1 Score : 0.7868255876068375\n",
      "92.85714285714286% du dataset pour le train\n",
      "F1 Score : 0.8220068776709402\n",
      "93.33333333333333% du dataset pour le train\n",
      "F1 Score : 0.8350193643162394\n",
      "93.75% du dataset pour le train\n",
      "F1 Score : 0.8319227430555556\n",
      "94.11764705882352% du dataset pour le train\n",
      "F1 Score : 0.8275240384615384\n",
      "94.44444444444444% du dataset pour le train\n",
      "F1 Score : 0.8340428018162394\n",
      "94.73684210526315% du dataset pour le train\n",
      "F1 Score : 0.8618289262820513\n",
      "95.0% du dataset pour le train\n",
      "F1 Score : 0.8595836672008547\n",
      "95.23809523809523% du dataset pour le train\n",
      "F1 Score : 0.8744407719017094\n",
      "95.45454545454545% du dataset pour le train\n",
      "F1 Score : 0.8668369391025641\n",
      "95.65217391304348% du dataset pour le train\n",
      "F1 Score : 0.8697332398504274\n",
      "95.83333333333334% du dataset pour le train\n",
      "F1 Score : 0.8753589075854701\n",
      "{'-1.0': {'precision': 0.9329578163088237, 'recall': 0.8706431215299199, 'f1-score': 0.9007239776889888, 'support': 77808}, '1.0': {'precision': 0.7867449202279806, 'recall': 0.884095238095238, 'f1-score': 0.8325840555175622, 'support': 42000}, 'micro avg': {'precision': 0.8753589075854701, 'recall': 0.8753589075854701, 'f1-score': 0.8753589075854701, 'support': 119808}, 'macro avg': {'precision': 0.8598513682684021, 'recall': 0.8773691798125789, 'f1-score': 0.8666540166032755, 'support': 119808}, 'weighted avg': {'precision': 0.8817012922420219, 'recall': 0.8753589075854701, 'f1-score': 0.8768367854213612, 'support': 119808}}\n"
     ]
    }
   ],
   "source": [
    "#validation croisée Perceptron\n",
    "#tol =1e-1 condition d'arret\n",
    "tab_f1_score=[]\n",
    "tab_pourcentage_train=[]\n",
    "for k in range(4,25):\n",
    "    tab_pourcentage_train.append( ( (k-1)/k )*100 )\n",
    "    print(str(( (k-1)/k )*100)+\"% du dataset pour le train\")\n",
    "    neigh = KNeighborsClassifier(n_neighbors=10)\n",
    "    y_pred = cross_val_predict(neigh,donnees,labels,cv=k)\n",
    "    rapport = classification_report(labels, y_pred,output_dict=True)\n",
    "    print(\"F1 Score : \"+str(rapport['micro avg'][\"f1-score\"]))\n",
    "    tab_f1_score.append(rapport['micro avg'][\"f1-score\"])\n",
    "print(rapport)"
   ]
  },
  {
   "cell_type": "code",
   "execution_count": 2,
   "metadata": {},
   "outputs": [
    {
     "ename": "NameError",
     "evalue": "name 'plt' is not defined",
     "output_type": "error",
     "traceback": [
      "\u001b[0;31m---------------------------------------------------------------------------\u001b[0m",
      "\u001b[0;31mNameError\u001b[0m                                 Traceback (most recent call last)",
      "\u001b[0;32m<ipython-input-2-5a7b1a2fbea7>\u001b[0m in \u001b[0;36m<module>\u001b[0;34m\u001b[0m\n\u001b[0;32m----> 1\u001b[0;31m \u001b[0mplt\u001b[0m\u001b[0;34m.\u001b[0m\u001b[0mplot\u001b[0m\u001b[0;34m(\u001b[0m\u001b[0mtab_pourcentage_train\u001b[0m\u001b[0;34m,\u001b[0m\u001b[0mtab_f1_score\u001b[0m\u001b[0;34m)\u001b[0m\u001b[0;34m\u001b[0m\u001b[0;34m\u001b[0m\u001b[0m\n\u001b[0m\u001b[1;32m      2\u001b[0m \u001b[0mplt\u001b[0m\u001b[0;34m.\u001b[0m\u001b[0mshow\u001b[0m\u001b[0;34m(\u001b[0m\u001b[0;34m)\u001b[0m\u001b[0;34m\u001b[0m\u001b[0;34m\u001b[0m\u001b[0m\n",
      "\u001b[0;31mNameError\u001b[0m: name 'plt' is not defined"
     ]
    }
   ],
   "source": [
    "plt.plot(tab_pourcentage_train,tab_f1_score)\n",
    "plt.show()"
   ]
  },
  {
   "cell_type": "code",
   "execution_count": null,
   "metadata": {},
   "outputs": [],
   "source": []
  }
 ],
 "metadata": {
  "kernelspec": {
   "display_name": "Python 3",
   "language": "python",
   "name": "python3"
  },
  "language_info": {
   "codemirror_mode": {
    "name": "ipython",
    "version": 3
   },
   "file_extension": ".py",
   "mimetype": "text/x-python",
   "name": "python",
   "nbconvert_exporter": "python",
   "pygments_lexer": "ipython3",
   "version": "3.6.7"
  }
 },
 "nbformat": 4,
 "nbformat_minor": 2
}
