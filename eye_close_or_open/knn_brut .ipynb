{
 "cells": [
  {
   "cell_type": "code",
   "execution_count": 1,
   "metadata": {},
   "outputs": [],
   "source": [
    "import mne\n",
    "from scipy.io import loadmat\n",
    "import numpy as np"
   ]
  },
  {
   "cell_type": "code",
   "execution_count": 2,
   "metadata": {},
   "outputs": [],
   "source": [
    "def file_to_data(fileName):\n",
    "    chnames = ['Fp1','Fp2','Fc5','Fz','Fc6','T7','Cz','T8','P7','P3','Pz','P4','P8','O1','Oz','O2','stim']\n",
    "    chtypes = ['eeg'] * 16 + ['stim']\n",
    "    info = mne.create_info(ch_names=chnames, sfreq=512,ch_types=chtypes, montage='standard_1020',verbose=False)\n",
    "    data = loadmat(fileName)[\"SIGNAL\"]\n",
    "    #On modifie pour avoir un dataset avec 1 : yeux ouvert et -1 yeux fermée\n",
    "    new_data=[]\n",
    "    yeux_ouvert=False\n",
    "    for k in range(len(data)):\n",
    "        if(yeux_ouvert==False):\n",
    "            tmp=np.append(data[k][1:17],-1)\n",
    "        else:\n",
    "            tmp=np.append(data[k][1:17],1)\n",
    "        new_data.append(tmp)\n",
    "        if(data[k][17]==1):\n",
    "            yeux_ouvert=True\n",
    "        if(data[k][18]==1):\n",
    "            yeux_ouvert=False\n",
    "    labels= [d[16] for d in new_data]\n",
    "    donnees = [d[:16] for d in new_data]\n",
    "    return donnees,labels"
   ]
  },
  {
   "cell_type": "code",
   "execution_count": 3,
   "metadata": {},
   "outputs": [],
   "source": [
    "donnees,labels = file_to_data(\"data/subject_01.mat\")"
   ]
  },
  {
   "cell_type": "code",
   "execution_count": 4,
   "metadata": {},
   "outputs": [],
   "source": [
    "from sklearn.model_selection import cross_val_predict\n",
    "from sklearn.neighbors import KNeighborsClassifier\n",
    "from sklearn.metrics import classification_report\n",
    "import matplotlib.pyplot as plt"
   ]
  },
  {
   "cell_type": "code",
   "execution_count": 16,
   "metadata": {},
   "outputs": [
    {
     "name": "stdout",
     "output_type": "stream",
     "text": [
      "1\n",
      "F1 Score : 0.6116202590811965\n",
      "11\n",
      "F1 Score : 0.6103348691239316\n",
      "21\n",
      "F1 Score : 0.6103932959401709\n",
      "31\n",
      "F1 Score : 0.6101512419871795\n",
      "41\n",
      "F1 Score : 0.6101679353632479\n",
      "51\n",
      "F1 Score : 0.6099425747863247\n",
      "61\n",
      "F1 Score : 0.6100093482905983\n",
      "71\n",
      "F1 Score : 0.6101345486111112\n",
      "81\n",
      "F1 Score : 0.6104433760683761\n",
      "91\n",
      "F1 Score : 0.6104517227564102\n",
      "{'-1.0': {'precision': 0.697597380344972, 'recall': 0.7063926588525602, 'f1-score': 0.7019674706412, 'support': 77808}, '1.0': {'precision': 0.44306297081840124, 'recall': 0.4327142857142857, 'f1-score': 0.4378274852744553, 'support': 42000}, 'micro avg': {'precision': 0.6104517227564102, 'recall': 0.6104517227564102, 'f1-score': 0.6104517227564102, 'support': 119808}, 'macro avg': {'precision': 0.5703301755816866, 'recall': 0.569553472283423, 'f1-score': 0.5698974779578276, 'support': 119808}, 'weighted avg': {'precision': 0.6083675693130212, 'recall': 0.6104517227564102, 'f1-score': 0.6093703203223292, 'support': 119808}}\n"
     ]
    }
   ],
   "source": [
    "#validation croisée Perceptron\n",
    "#tol =1e-1 condition d'arret\n",
    "tab_f1_score=[]\n",
    "tab_k=[]\n",
    "for k in range(1,101,10):\n",
    "    print(k)\n",
    "    tab_k.append(k)\n",
    "    neigh = KNeighborsClassifier(n_neighbors=k)\n",
    "    y_pred = cross_val_predict(neigh,donnees,labels,cv=5)\n",
    "    rapport = classification_report(labels, y_pred,output_dict=True)\n",
    "    print(\"F1 Score : \"+str(rapport['micro avg'][\"f1-score\"]))\n",
    "    tab_f1_score.append(rapport['micro avg'][\"f1-score\"])\n",
    "print(rapport)"
   ]
  },
  {
   "cell_type": "code",
   "execution_count": 18,
   "metadata": {},
   "outputs": [
    {
     "data": {
      "image/png": "[encoded data removed]",
      "text/plain": [
       "<Figure size 432x288 with 1 Axes>"
      ]
     },
     "metadata": {
      "needs_background": "light"
     },
     "output_type": "display_data"
    }
   ],
   "source": [
    "plt.plot(tab_k,tab_f1_score,label=\"f1 score\")\n",
    "plt.title(\"Knn sur données brut\")\n",
    "plt.xlabel(\"nombre de voisin\")\n",
    "plt.ylabel(\"f1 score\")\n",
    "plt.savefig(\"images/f1_score_knn_données_brut_k_entre_1_et_91.png\",bbox_inches='tight')\n",
    "plt.show()"
   ]
  },
  {
   "cell_type": "code",
   "execution_count": null,
   "metadata": {},
   "outputs": [],
   "source": []
  }
 ],
 "metadata": {
  "kernelspec": {
   "display_name": "Python 3",
   "language": "python",
   "name": "python3"
  },
  "language_info": {
   "codemirror_mode": {
    "name": "ipython",
    "version": 3
   },
   "file_extension": ".py",
   "mimetype": "text/x-python",
   "name": "python",
   "nbconvert_exporter": "python",
   "pygments_lexer": "ipython3",
   "version": "3.6.7"
  }
 },
 "nbformat": 4,
 "nbformat_minor": 2
}
