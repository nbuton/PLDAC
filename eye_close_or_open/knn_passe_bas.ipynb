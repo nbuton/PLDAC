{
 "cells": [
  {
   "cell_type": "code",
   "execution_count": 1,
   "metadata": {},
   "outputs": [],
   "source": [
    "import mne\n",
    "from scipy.io import loadmat\n",
    "import numpy as np"
   ]
  },
  {
   "cell_type": "code",
   "execution_count": 2,
   "metadata": {},
   "outputs": [],
   "source": [
    "def file_to_data(fileName):\n",
    "    chnames = ['Fp1','Fp2','Fc5','Fz','Fc6','T7','Cz','T8','P7','P3','Pz','P4','P8','O1','Oz','O2','stim']\n",
    "    chtypes = ['eeg'] * 16 + ['stim']\n",
    "    info = mne.create_info(ch_names=chnames, sfreq=512,ch_types=chtypes, montage='standard_1020',verbose=False)\n",
    "    data = loadmat(fileName)[\"SIGNAL\"]\n",
    "    #On modifie pour avoir un dataset avec 1 : yeux ouvert et -1 yeux fermée\n",
    "    new_data=[]\n",
    "    yeux_ouvert=False\n",
    "    for k in range(len(data)):\n",
    "        if(yeux_ouvert==False):\n",
    "            tmp=np.append(data[k][1:17],-1)\n",
    "        else:\n",
    "            tmp=np.append(data[k][1:17],1)\n",
    "        new_data.append(tmp)\n",
    "        if(data[k][17]==1):\n",
    "            yeux_ouvert=True\n",
    "        if(data[k][18]==1):\n",
    "            yeux_ouvert=False\n",
    "    labels= [d[16] for d in new_data]\n",
    "    donnees = [d[:16] for d in new_data]\n",
    "    return donnees,labels"
   ]
  },
  {
   "cell_type": "code",
   "execution_count": 3,
   "metadata": {},
   "outputs": [],
   "source": [
    "donnees,labels = file_to_data(\"data/subject_01.mat\")"
   ]
  },
  {
   "cell_type": "code",
   "execution_count": 4,
   "metadata": {},
   "outputs": [],
   "source": [
    "new_donnees=[]\n",
    "moyennation=20\n",
    "for k in range(len(donnees)):\n",
    "    if(k>moyennation):\n",
    "        tmp=[]\n",
    "        for i in range(len(donnees[k])):\n",
    "            tmp.append(np.mean(donnees[k-moyennation:k][i]))\n",
    "        new_donnees.append(tmp)\n",
    "donnees=new_donnees\n",
    "labels=labels[:-moyennation-1]"
   ]
  },
  {
   "cell_type": "code",
   "execution_count": 5,
   "metadata": {},
   "outputs": [],
   "source": [
    "from sklearn.model_selection import cross_val_predict\n",
    "from sklearn.neighbors import KNeighborsClassifier\n",
    "from sklearn.metrics import classification_report\n",
    "import matplotlib.pyplot as plt"
   ]
  },
  {
   "cell_type": "code",
   "execution_count": 6,
   "metadata": {},
   "outputs": [
    {
     "name": "stdout",
     "output_type": "stream",
     "text": [
      "75.0% du dataset pour le train\n",
      "F1 Score : 0.4901867481446234\n",
      "80.0% du dataset pour le train\n",
      "F1 Score : 0.484535049713241\n",
      "83.33333333333334% du dataset pour le train\n",
      "F1 Score : 0.5204821892191974\n",
      "85.71428571428571% du dataset pour le train\n",
      "F1 Score : 0.5034770050172389\n",
      "87.5% du dataset pour le train\n",
      "F1 Score : 0.5217010193092739\n",
      "88.88888888888889% du dataset pour le train\n",
      "F1 Score : 0.5310426006160935\n",
      "90.0% du dataset pour le train\n",
      "F1 Score : 0.5534907794668871\n",
      "90.9090909090909% du dataset pour le train\n",
      "F1 Score : 0.5393072704049688\n",
      "91.66666666666666% du dataset pour le train\n",
      "F1 Score : 0.5529564977835658\n",
      "92.3076923076923% du dataset pour le train\n",
      "F1 Score : 0.5372202325794952\n",
      "92.85714285714286% du dataset pour le train\n",
      "F1 Score : 0.5631161979179711\n",
      "93.33333333333333% du dataset pour le train\n",
      "F1 Score : 0.557681551420438\n",
      "93.75% du dataset pour le train\n",
      "F1 Score : 0.5355172097139088\n",
      "94.11764705882352% du dataset pour le train\n",
      "F1 Score : 0.5638842278377453\n",
      "94.44444444444444% du dataset pour le train\n",
      "F1 Score : 0.5721655939292244\n",
      "94.73684210526315% du dataset pour le train\n",
      "F1 Score : 0.592944142519639\n",
      "95.0% du dataset pour le train\n",
      "F1 Score : 0.5701453413141659\n",
      "95.23809523809523% du dataset pour le train\n",
      "F1 Score : 0.5564794176329652\n",
      "95.45454545454545% du dataset pour le train\n",
      "F1 Score : 0.583243590706838\n",
      "95.65217391304348% du dataset pour le train\n",
      "F1 Score : 0.5878517702254835\n",
      "95.83333333333334% du dataset pour le train\n",
      "F1 Score : 0.5861988362677085\n",
      "{'-1.0': {'precision': 0.6996957044795131, 'recall': 0.6355432141617494, 'f1-score': 0.6660783336252543, 'support': 77787}, '1.0': {'precision': 0.4229829846128796, 'recall': 0.4948095238095238, 'f1-score': 0.4560856779177456, 'support': 42000}, 'micro avg': {'precision': 0.5861988362677085, 'recall': 0.5861988362677085, 'f1-score': 0.5861988362677085, 'support': 119787}, 'macro avg': {'precision': 0.5613393445461964, 'recall': 0.5651763689856366, 'f1-score': 0.5610820057714999, 'support': 119787}, 'weighted avg': {'precision': 0.6026740390700897, 'recall': 0.5861988362677085, 'f1-score': 0.5924502142156742, 'support': 119787}}\n"
     ]
    }
   ],
   "source": [
    "#validation croisée Perceptron\n",
    "#tol =1e-1 condition d'arret\n",
    "tab_f1_score=[]\n",
    "tab_pourcentage_train=[]\n",
    "for k in range(4,25):\n",
    "    tab_pourcentage_train.append( ( (k-1)/k )*100 )\n",
    "    print(str(( (k-1)/k )*100)+\"% du dataset pour le train\")\n",
    "    neigh = KNeighborsClassifier(n_neighbors=10)\n",
    "    y_pred = cross_val_predict(neigh,donnees,labels,cv=k)\n",
    "    rapport = classification_report(labels, y_pred,output_dict=True)\n",
    "    print(\"F1 Score : \"+str(rapport['micro avg'][\"f1-score\"]))\n",
    "    tab_f1_score.append(rapport['micro avg'][\"f1-score\"])\n",
    "print(rapport)"
   ]
  },
  {
   "cell_type": "code",
   "execution_count": 7,
   "metadata": {},
   "outputs": [
    {
     "data": {
      "image/png": "[encoded data removed]",
      "text/plain": [
       "<Figure size 432x288 with 1 Axes>"
      ]
     },
     "metadata": {
      "needs_background": "light"
     },
     "output_type": "display_data"
    }
   ],
   "source": [
    "plt.plot(tab_pourcentage_train,tab_f1_score)\n",
    "plt.show()"
   ]
  },
  {
   "cell_type": "code",
   "execution_count": null,
   "metadata": {},
   "outputs": [],
   "source": []
  }
 ],
 "metadata": {
  "kernelspec": {
   "display_name": "Python 3",
   "language": "python",
   "name": "python3"
  },
  "language_info": {
   "codemirror_mode": {
    "name": "ipython",
    "version": 3
   },
   "file_extension": ".py",
   "mimetype": "text/x-python",
   "name": "python",
   "nbconvert_exporter": "python",
   "pygments_lexer": "ipython3",
   "version": "3.6.7"
  }
 },
 "nbformat": 4,
 "nbformat_minor": 2
}
