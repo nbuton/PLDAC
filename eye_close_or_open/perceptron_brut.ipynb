{
 "cells": [
  {
   "cell_type": "code",
   "execution_count": 1,
   "metadata": {},
   "outputs": [],
   "source": [
    "import mne\n",
    "from scipy.io import loadmat\n",
    "import numpy as np"
   ]
  },
  {
   "cell_type": "code",
   "execution_count": 2,
   "metadata": {},
   "outputs": [],
   "source": [
    "def file_to_data(fileName):\n",
    "    chnames = ['Fp1','Fp2','Fc5','Fz','Fc6','T7','Cz','T8','P7','P3','Pz','P4','P8','O1','Oz','O2','stim']\n",
    "    chtypes = ['eeg'] * 16 + ['stim']\n",
    "    info = mne.create_info(ch_names=chnames, sfreq=512,ch_types=chtypes, montage='standard_1020',verbose=False)\n",
    "    data = loadmat(fileName)[\"SIGNAL\"]\n",
    "    #On modifie pour avoir un dataset avec 1 : yeux ouvert et -1 yeux fermée\n",
    "    new_data=[]\n",
    "    yeux_ouvert=False\n",
    "    for k in range(len(data)):\n",
    "        if(yeux_ouvert==False):\n",
    "            tmp=np.append(data[k][1:17],-1)\n",
    "        else:\n",
    "            tmp=np.append(data[k][1:17],1)\n",
    "        new_data.append(tmp)\n",
    "        if(data[k][17]==1):\n",
    "            yeux_ouvert=True\n",
    "        if(data[k][18]==1):\n",
    "            yeux_ouvert=False\n",
    "    labels= [d[16] for d in new_data]\n",
    "    donnees = [d[:16] for d in new_data]\n",
    "    return donnees,labels"
   ]
  },
  {
   "cell_type": "code",
   "execution_count": 3,
   "metadata": {},
   "outputs": [],
   "source": [
    "donnees,labels = file_to_data(\"data/subject_01.mat\")"
   ]
  },
  {
   "cell_type": "code",
   "execution_count": 29,
   "metadata": {},
   "outputs": [],
   "source": [
    "from sklearn.model_selection import cross_val_predict\n",
    "from sklearn.linear_model import SGDClassifier\n",
    "from sklearn.metrics import classification_report\n",
    "import matplotlib.pyplot as plt"
   ]
  },
  {
   "cell_type": "code",
   "execution_count": 27,
   "metadata": {},
   "outputs": [
    {
     "name": "stdout",
     "output_type": "stream",
     "text": [
      "75.0% du train\n",
      "0.5977397168803419\n",
      "80.0% du train\n",
      "0.5954443776709402\n",
      "83.33333333333334% du train\n",
      "0.6793786725427351\n",
      "85.71428571428571% du train\n",
      "0.5825237045940171\n",
      "87.5% du train\n",
      "0.7053869524572649\n",
      "88.88888888888889% du train\n",
      "0.5804537259615384\n",
      "90.0% du train\n",
      "0.6856971153846154\n",
      "90.9090909090909% du train\n",
      "0.6340645032051282\n",
      "91.66666666666666% du train\n",
      "0.6287393162393162\n",
      "92.3076923076923% du train\n",
      "0.6840444711538461\n",
      "92.85714285714286% du train\n",
      "0.7242588141025641\n",
      "93.33333333333333% du train\n",
      "0.7243589743589743\n",
      "93.75% du train\n",
      "0.7071564503205128\n",
      "94.11764705882352% du train\n",
      "0.6699636084401709\n",
      "94.44444444444444% du train\n",
      "0.7448667868589743\n",
      "94.73684210526315% du train\n",
      "0.7499749599358975\n",
      "95.0% du train\n",
      "0.7332732371794872\n",
      "95.23809523809523% du train\n",
      "0.7487813835470084\n",
      "95.45454545454545% du train\n",
      "0.743739983974359\n",
      "95.65217391304348% du train\n",
      "0.7444160657051283\n",
      "95.83333333333334% du train\n",
      "0.7841379540598291\n",
      "{'-1.0': {'precision': 0.8457442560102234, 'recall': 0.8165484268969772, 'f1-score': 0.8308899496501667, 'support': 77808}, '1.0': {'precision': 0.680571096092736, 'recall': 0.7240952380952381, 'f1-score': 0.7016588607156865, 'support': 42000}, 'micro avg': {'precision': 0.7841379540598291, 'recall': 0.7841379540598291, 'f1-score': 0.7841379540598291, 'support': 119808}, 'macro avg': {'precision': 0.7631576760514798, 'recall': 0.7703218324961076, 'f1-score': 0.7662744051829267, 'support': 119808}, 'weighted avg': {'precision': 0.7878410048372261, 'recall': 0.7841379540598291, 'f1-score': 0.7855865831366771, 'support': 119808}}\n"
     ]
    }
   ],
   "source": [
    "#validation croisée Perceptron\n",
    "#tol =1e-1 condition d'arret\n",
    "tab_f1_score=[]\n",
    "tab_pourcentage_train=[]\n",
    "for k in range(4,25):\n",
    "    tab_pourcentage_train.append( ( (k-1)/k )*100 )\n",
    "    print(str(( (k-1)/k )*100)+\"% du dataset pour le train\")\n",
    "    clf = SGDClassifier(loss=\"perceptron\", eta0=1e-4, learning_rate=\"constant\", penalty=None,tol=1e-1,max_iter=10000,shuffle=True)\n",
    "    y_pred = cross_val_predict(clf,donnees,labels,cv=k)\n",
    "    rapport = classification_report(labels, y_pred,output_dict=True)\n",
    "    print(\"F1 Score : \"+str(rapport['micro avg'][\"f1-score\"]))\n",
    "    tab_f1_score.append(rapport['micro avg'][\"f1-score\"])\n",
    "print(rapport)"
   ]
  },
  {
   "cell_type": "code",
   "execution_count": 30,
   "metadata": {},
   "outputs": [
    {
     "data": {
      "image/png": "[encoded data removed]",
      "text/plain": [
       "<Figure size 432x288 with 1 Axes>"
      ]
     },
     "metadata": {
      "needs_background": "light"
     },
     "output_type": "display_data"
    }
   ],
   "source": [
    "plt.plot(tab_pourcentage_train,tab_f1_score)\n",
    "plt.show()"
   ]
  },
  {
   "cell_type": "code",
   "execution_count": null,
   "metadata": {},
   "outputs": [],
   "source": []
  }
 ],
 "metadata": {
  "kernelspec": {
   "display_name": "Python 3",
   "language": "python",
   "name": "python3"
  },
  "language_info": {
   "codemirror_mode": {
    "name": "ipython",
    "version": 3
   },
   "file_extension": ".py",
   "mimetype": "text/x-python",
   "name": "python",
   "nbconvert_exporter": "python",
   "pygments_lexer": "ipython3",
   "version": "3.6.7"
  }
 },
 "nbformat": 4,
 "nbformat_minor": 2
}
