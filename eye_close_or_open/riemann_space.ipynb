{
 "cells": [
  {
   "cell_type": "code",
   "execution_count": 1,
   "metadata": {},
   "outputs": [],
   "source": [
    "import mne\n",
    "from scipy.io import loadmat\n",
    "import numpy as np"
   ]
  },
  {
   "cell_type": "code",
   "execution_count": 2,
   "metadata": {},
   "outputs": [
    {
     "name": "stdout",
     "output_type": "stream",
     "text": [
      "[     0.         -16639.796875     1075.2641602    7197.5185547\n",
      "   1501.6668701   -4080.4909668     872.66534424  -7446.5708008\n",
      "  -3852.1730957    1030.7530518   -8910.7548828     959.37817383\n",
      "  -2181.5031738    8054.1430664  -10051.151367    13269.295898\n",
      " -19776.359375        0.              0.        ]\n",
      "19\n"
     ]
    }
   ],
   "source": [
    "chnames = ['Fp1','Fp2','Fc5','Fz','Fc6','T7','Cz','T8','P7','P3','Pz','P4','P8','O1','Oz','O2','stim']\n",
    "chtypes = ['eeg'] * 16 + ['stim']\n",
    "info = mne.create_info(ch_names=chnames, sfreq=512,ch_types=chtypes, montage='standard_1020',verbose=False)\n",
    "data = loadmat(\"data/subject_01.mat\")[\"SIGNAL\"]\n",
    "\n",
    "print(data[0])\n",
    "print(len(data[0]))"
   ]
  },
  {
   "cell_type": "code",
   "execution_count": 3,
   "metadata": {},
   "outputs": [
    {
     "data": {
      "text/plain": [
       "<Figure size 640x480 with 1 Axes>"
      ]
     },
     "metadata": {},
     "output_type": "display_data"
    }
   ],
   "source": [
    "import matplotlib.pyplot as plt\n",
    "for k in range(16):\n",
    "    plt.plot([d[0] for d in data],[d[k] for d in data])\n",
    "plt.show()"
   ]
  },
  {
   "cell_type": "code",
   "execution_count": 4,
   "metadata": {},
   "outputs": [
    {
     "data": {
      "text/plain": [
       "'\\nColonne 1 : timestamp\\nColonne 2 à 17 : les données des 16 éléctrodes\\nColonne 18 : quand on passe aux yeux sont fermé\\nColone 19 : quand on passe aux yeux sont ouvert\\nfilled with zeros, except at the timestamp corresponding to the beginning of\\nthe block for condition 1 (resp. 2), when the row gets a value of one.\\n'"
      ]
     },
     "execution_count": 4,
     "metadata": {},
     "output_type": "execute_result"
    }
   ],
   "source": [
    "\"\"\"\n",
    "Colonne 1 : timestamp\n",
    "Colonne 2 à 17 : les données des 16 éléctrodes\n",
    "Colonne 18 : quand on passe aux yeux sont fermé\n",
    "Colone 19 : quand on passe aux yeux sont ouvert\n",
    "filled with zeros, except at the timestamp corresponding to the beginning of\n",
    "the block for condition 1 (resp. 2), when the row gets a value of one.\n",
    "\"\"\""
   ]
  },
  {
   "cell_type": "code",
   "execution_count": 5,
   "metadata": {},
   "outputs": [
    {
     "name": "stdout",
     "output_type": "stream",
     "text": [
      "0 : Je ferme les yeux\n",
      "35511 : J'ouvre les yeux\n",
      "45179 : Je ferme les yeux\n",
      "53413 : J'ouvre les yeux\n",
      "61886 : Je ferme les yeux\n",
      "69812 : J'ouvre les yeux\n",
      "78140 : Je ferme les yeux\n",
      "85802 : J'ouvre les yeux\n",
      "93556 : Je ferme les yeux\n",
      "101416 : J'ouvre les yeux\n",
      "109193 : Je ferme les yeux\n"
     ]
    }
   ],
   "source": [
    "#On localise les indices des 1\n",
    "print(\"0 : Je ferme les yeux\")\n",
    "for k in range(len(data)):\n",
    "    if(data[k][17]==1):\n",
    "        print(str(k)+\" : J'ouvre les yeux\")\n",
    "    if(data[k][18]==1):\n",
    "        print(str(k)+\" : Je ferme les yeux\")"
   ]
  },
  {
   "cell_type": "code",
   "execution_count": 6,
   "metadata": {},
   "outputs": [],
   "source": [
    "#On modifie pour avoir un dataset avec 1 : yeux ouvert et -1 yeux fermée\n",
    "new_data=[]\n",
    "yeux_ouvert=False\n",
    "for k in range(len(data)):\n",
    "    if(yeux_ouvert==False):\n",
    "        tmp=np.append(data[k][1:17],-1)\n",
    "    else:\n",
    "        tmp=np.append(data[k][1:17],1)\n",
    "    new_data.append(tmp)\n",
    "    if(data[k][17]==1):\n",
    "        yeux_ouvert=True\n",
    "    if(data[k][18]==1):\n",
    "        yeux_ouvert=False"
   ]
  },
  {
   "cell_type": "code",
   "execution_count": 7,
   "metadata": {},
   "outputs": [
    {
     "name": "stdout",
     "output_type": "stream",
     "text": [
      "119808\n",
      "17\n"
     ]
    }
   ],
   "source": [
    "print(len(new_data))\n",
    "print(len(new_data[0]))"
   ]
  },
  {
   "cell_type": "code",
   "execution_count": 8,
   "metadata": {},
   "outputs": [
    {
     "name": "stdout",
     "output_type": "stream",
     "text": [
      "42000\n",
      "77808\n"
     ]
    }
   ],
   "source": [
    "nbOuvert=0\n",
    "nbFermee=0\n",
    "ens_yeux_fermee=[]\n",
    "ens_yeux_ouvert=[]\n",
    "for d in new_data:\n",
    "    if(d[16]==1):\n",
    "        nbOuvert+=1\n",
    "        ens_yeux_ouvert.append(d)\n",
    "    elif(d[16]==-1):\n",
    "        nbFermee+=1\n",
    "        ens_yeux_fermee.append(d)\n",
    "print(nbOuvert)\n",
    "print(nbFermee)"
   ]
  },
  {
   "cell_type": "code",
   "execution_count": 9,
   "metadata": {},
   "outputs": [
    {
     "name": "stdout",
     "output_type": "stream",
     "text": [
      "42000\n"
     ]
    }
   ],
   "source": [
    "min_sample=min(nbOuvert,nbFermee)\n",
    "print(min_sample)"
   ]
  },
  {
   "cell_type": "code",
   "execution_count": 10,
   "metadata": {},
   "outputs": [],
   "source": [
    "np.random.shuffle(ens_yeux_fermee)\n",
    "np.random.shuffle(ens_yeux_ouvert)\n",
    "ens_yeux_fermee = ens_yeux_fermee[:min_sample]\n",
    "ens_yeux_ouvert = ens_yeux_ouvert[:min_sample]\n"
   ]
  },
  {
   "cell_type": "code",
   "execution_count": 11,
   "metadata": {},
   "outputs": [
    {
     "name": "stdout",
     "output_type": "stream",
     "text": [
      "42000\n",
      "42000\n"
     ]
    }
   ],
   "source": [
    "print(len(ens_yeux_fermee))\n",
    "print(len(ens_yeux_ouvert))"
   ]
  },
  {
   "cell_type": "code",
   "execution_count": 12,
   "metadata": {},
   "outputs": [],
   "source": [
    "data = ens_yeux_fermee+ens_yeux_ouvert\n",
    "np.random.shuffle(data)\n",
    "prop=0.8\n",
    "ens_train=data[:int(len(data)*prop)]\n",
    "ens_test=data[int(len(data)*prop):]"
   ]
  },
  {
   "cell_type": "code",
   "execution_count": 13,
   "metadata": {},
   "outputs": [],
   "source": [
    "import pyriemann\n",
    "from sklearn.model_selection import cross_val_score"
   ]
  },
  {
   "cell_type": "code",
   "execution_count": 14,
   "metadata": {},
   "outputs": [],
   "source": [
    "labels_train = [d[16] for d in ens_train]\n",
    "donnees_train = [d[:16] for d in ens_train]"
   ]
  },
  {
   "cell_type": "code",
   "execution_count": 20,
   "metadata": {},
   "outputs": [
    {
     "name": "stdout",
     "output_type": "stream",
     "text": [
      "(3952, 17, 16)\n",
      "(3952, 16, 17)\n",
      "(3952,)\n"
     ]
    },
    {
     "name": "stderr",
     "output_type": "stream",
     "text": [
      "/home/nicolas/envPythonML/lib/python3.6/site-packages/sklearn/model_selection/_split.py:2053: FutureWarning: You should specify a value for 'cv' instead of relying on the default value. The default value will change from 3 to 5 in version 0.22.\n",
      "  warnings.warn(CV_WARNING, FutureWarning)\n"
     ]
    },
    {
     "name": "stdout",
     "output_type": "stream",
     "text": [
      "0.5660371416314188\n",
      "(1976, 34, 16)\n",
      "(1976, 16, 34)\n",
      "(1976,)\n"
     ]
    },
    {
     "name": "stderr",
     "output_type": "stream",
     "text": [
      "/home/nicolas/envPythonML/lib/python3.6/site-packages/sklearn/model_selection/_split.py:2053: FutureWarning: You should specify a value for 'cv' instead of relying on the default value. The default value will change from 3 to 5 in version 0.22.\n",
      "  warnings.warn(CV_WARNING, FutureWarning)\n"
     ]
    },
    {
     "name": "stdout",
     "output_type": "stream",
     "text": [
      "0.5146779145584556\n",
      "(1317, 51, 16)\n",
      "(1317, 16, 51)\n",
      "(1317,)\n"
     ]
    },
    {
     "name": "stderr",
     "output_type": "stream",
     "text": [
      "/home/nicolas/envPythonML/lib/python3.6/site-packages/sklearn/model_selection/_split.py:2053: FutureWarning: You should specify a value for 'cv' instead of relying on the default value. The default value will change from 3 to 5 in version 0.22.\n",
      "  warnings.warn(CV_WARNING, FutureWarning)\n"
     ]
    },
    {
     "name": "stdout",
     "output_type": "stream",
     "text": [
      "0.5231812382255482\n",
      "(987, 68, 16)\n",
      "(987, 16, 68)\n",
      "(987,)\n"
     ]
    },
    {
     "name": "stderr",
     "output_type": "stream",
     "text": [
      "/home/nicolas/envPythonML/lib/python3.6/site-packages/sklearn/model_selection/_split.py:2053: FutureWarning: You should specify a value for 'cv' instead of relying on the default value. The default value will change from 3 to 5 in version 0.22.\n",
      "  warnings.warn(CV_WARNING, FutureWarning)\n"
     ]
    },
    {
     "name": "stdout",
     "output_type": "stream",
     "text": [
      "0.5238066033603138\n",
      "(789, 85, 16)\n",
      "(789, 16, 85)\n",
      "(789,)\n"
     ]
    },
    {
     "name": "stderr",
     "output_type": "stream",
     "text": [
      "/home/nicolas/envPythonML/lib/python3.6/site-packages/sklearn/model_selection/_split.py:2053: FutureWarning: You should specify a value for 'cv' instead of relying on the default value. The default value will change from 3 to 5 in version 0.22.\n",
      "  warnings.warn(CV_WARNING, FutureWarning)\n"
     ]
    },
    {
     "name": "stdout",
     "output_type": "stream",
     "text": [
      "0.5221799746514575\n",
      "(657, 102, 16)\n",
      "(657, 16, 102)\n",
      "(657,)\n"
     ]
    },
    {
     "name": "stderr",
     "output_type": "stream",
     "text": [
      "/home/nicolas/envPythonML/lib/python3.6/site-packages/sklearn/model_selection/_split.py:2053: FutureWarning: You should specify a value for 'cv' instead of relying on the default value. The default value will change from 3 to 5 in version 0.22.\n",
      "  warnings.warn(CV_WARNING, FutureWarning)\n"
     ]
    },
    {
     "name": "stdout",
     "output_type": "stream",
     "text": [
      "0.5021784389071055\n",
      "(563, 119, 16)\n",
      "(563, 16, 119)\n",
      "(563,)\n"
     ]
    },
    {
     "name": "stderr",
     "output_type": "stream",
     "text": [
      "/home/nicolas/envPythonML/lib/python3.6/site-packages/sklearn/model_selection/_split.py:2053: FutureWarning: You should specify a value for 'cv' instead of relying on the default value. The default value will change from 3 to 5 in version 0.22.\n",
      "  warnings.warn(CV_WARNING, FutureWarning)\n"
     ]
    },
    {
     "name": "stdout",
     "output_type": "stream",
     "text": [
      "0.5062578222778473\n",
      "(492, 136, 16)\n",
      "(492, 16, 136)\n",
      "(492,)\n"
     ]
    },
    {
     "name": "stderr",
     "output_type": "stream",
     "text": [
      "/home/nicolas/envPythonML/lib/python3.6/site-packages/sklearn/model_selection/_split.py:2053: FutureWarning: You should specify a value for 'cv' instead of relying on the default value. The default value will change from 3 to 5 in version 0.22.\n",
      "  warnings.warn(CV_WARNING, FutureWarning)\n"
     ]
    },
    {
     "name": "stdout",
     "output_type": "stream",
     "text": [
      "0.5141782934839946\n",
      "(437, 153, 16)\n",
      "(437, 16, 153)\n",
      "(437,)\n"
     ]
    },
    {
     "name": "stderr",
     "output_type": "stream",
     "text": [
      "/home/nicolas/envPythonML/lib/python3.6/site-packages/sklearn/model_selection/_split.py:2053: FutureWarning: You should specify a value for 'cv' instead of relying on the default value. The default value will change from 3 to 5 in version 0.22.\n",
      "  warnings.warn(CV_WARNING, FutureWarning)\n"
     ]
    },
    {
     "name": "stdout",
     "output_type": "stream",
     "text": [
      "0.45994331601322624\n"
     ]
    }
   ],
   "source": [
    "result_acc=[]\n",
    "for mult in range(1,10):\n",
    "    #512 Hz\n",
    "    #On prend 52 trial par échantillon pour avoir un temps de reaction d'environ 0,1015625s\n",
    "    #On supprime les derniers echantillons pour avoir un multiple de 52 et donc des matrices completes\n",
    "    nb_trail=mult*17#52\n",
    "    nb_paquet=int(len(donnees_train)/nb_trail)\n",
    "    donnees_train = donnees_train[:nb_trail*nb_paquet]\n",
    "    X=np.array(np.split(np.array(donnees_train), nb_paquet))#Ntrial*Nchannels*Nsample\n",
    "    print(X.shape)\n",
    "    X=np.swapaxes(X,1,2)\n",
    "    print(X.shape)\n",
    "    #estimer la matrice de covariance\n",
    "    cov = pyriemann.estimation.Covariances().fit_transform(X)\n",
    "    #validation croisée\n",
    "    mdm = pyriemann.classification.MDM()\n",
    "\n",
    "    #On modifie les y pour qu'il y est qu'un chiffre tout les 52 enregistrement, on prendra dans un premier temps juste\n",
    "    #le premier label sur les 52 pour estimer les 52 suivant\n",
    "    labels_train = labels_train[:nb_trail*nb_paquet]\n",
    "    yTemp = np.array(np.split(np.array(labels_train), nb_paquet))\n",
    "    y=np.array([u[0] for u in yTemp])\n",
    "    print(y.shape)\n",
    "    accuracy = cross_val_score(mdm, cov , y)\n",
    "\n",
    "    print(accuracy.mean())\n",
    "    result_acc.append(accuracy.mean())"
   ]
  },
  {
   "cell_type": "code",
   "execution_count": 22,
   "metadata": {},
   "outputs": [
    {
     "data": {
      "image/png": "[encoded data removed]",
      "text/plain": [
       "<Figure size 432x288 with 1 Axes>"
      ]
     },
     "metadata": {
      "needs_background": "light"
     },
     "output_type": "display_data"
    }
   ],
   "source": [
    "import matplotlib.pyplot as plt\n",
    "plt.plot(result_acc)\n",
    "plt.show()"
   ]
  },
  {
   "cell_type": "code",
   "execution_count": null,
   "metadata": {},
   "outputs": [],
   "source": []
  },
  {
   "cell_type": "code",
   "execution_count": null,
   "metadata": {},
   "outputs": [],
   "source": []
  },
  {
   "cell_type": "code",
   "execution_count": null,
   "metadata": {},
   "outputs": [],
   "source": []
  }
 ],
 "metadata": {
  "kernelspec": {
   "display_name": "Python 3",
   "language": "python",
   "name": "python3"
  },
  "language_info": {
   "codemirror_mode": {
    "name": "ipython",
    "version": 3
   },
   "file_extension": ".py",
   "mimetype": "text/x-python",
   "name": "python",
   "nbconvert_exporter": "python",
   "pygments_lexer": "ipython3",
   "version": "3.6.7"
  }
 },
 "nbformat": 4,
 "nbformat_minor": 2
}
