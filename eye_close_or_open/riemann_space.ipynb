{
 "cells": [
  {
   "cell_type": "code",
   "execution_count": 1,
   "metadata": {},
   "outputs": [],
   "source": [
    "import mne\n",
    "from scipy.io import loadmat\n",
    "import numpy as np"
   ]
  },
  {
   "cell_type": "code",
   "execution_count": 2,
   "metadata": {},
   "outputs": [
    {
     "name": "stdout",
     "output_type": "stream",
     "text": [
      "[    0.        20976.429688   3298.6860352  4736.3950195 12961.014648\n",
      "  5785.2348633  5856.0961914 17377.789063     41.0776062 11498.365234\n",
      " 17605.335938  22601.160156  18115.683594  15631.652344  18219.396484\n",
      "  9485.4033203 20960.255859      0.            0.       ]\n",
      "19\n"
     ]
    }
   ],
   "source": [
    "chnames = ['Fp1','Fp2','Fc5','Fz','Fc6','T7','Cz','T8','P7','P3','Pz','P4','P8','O1','Oz','O2','stim']\n",
    "chtypes = ['eeg'] * 16 + ['stim']\n",
    "info = mne.create_info(ch_names=chnames, sfreq=512,ch_types=chtypes, montage='standard_1020',verbose=False)\n",
    "data = loadmat(\"data/subject_03.mat\")[\"SIGNAL\"]\n",
    "\n",
    "print(data[0])\n",
    "print(len(data[0]))"
   ]
  },
  {
   "cell_type": "code",
   "execution_count": 3,
   "metadata": {},
   "outputs": [
    {
     "data": {
      "text/plain": [
       "<Figure size 640x480 with 1 Axes>"
      ]
     },
     "metadata": {},
     "output_type": "display_data"
    }
   ],
   "source": [
    "import matplotlib.pyplot as plt\n",
    "for k in range(16):\n",
    "    plt.plot([d[0] for d in data],[d[k] for d in data])\n",
    "plt.show()"
   ]
  },
  {
   "cell_type": "code",
   "execution_count": 4,
   "metadata": {},
   "outputs": [
    {
     "data": {
      "text/plain": [
       "'\\nColonne 1 : timestamp\\nColonne 2 à 17 : les données des 16 éléctrodes\\nColonne 18 : quand on passe aux yeux sont fermé\\nColone 19 : quand on passe aux yeux sont ouvert\\nfilled with zeros, except at the timestamp corresponding to the beginning of\\nthe block for condition 1 (resp. 2), when the row gets a value of one.\\n'"
      ]
     },
     "execution_count": 4,
     "metadata": {},
     "output_type": "execute_result"
    }
   ],
   "source": [
    "\"\"\"\n",
    "Colonne 1 : timestamp\n",
    "Colonne 2 à 17 : les données des 16 éléctrodes\n",
    "Colonne 18 : quand on passe aux yeux sont fermé\n",
    "Colone 19 : quand on passe aux yeux sont ouvert\n",
    "filled with zeros, except at the timestamp corresponding to the beginning of\n",
    "the block for condition 1 (resp. 2), when the row gets a value of one.\n",
    "\"\"\""
   ]
  },
  {
   "cell_type": "code",
   "execution_count": 5,
   "metadata": {},
   "outputs": [
    {
     "name": "stdout",
     "output_type": "stream",
     "text": [
      "0 : Je ferme les yeux\n",
      "6685 : J'ouvre les yeux\n",
      "16288 : Je ferme les yeux\n",
      "24107 : J'ouvre les yeux\n",
      "34265 : Je ferme les yeux\n",
      "42882 : J'ouvre les yeux\n",
      "50860 : Je ferme les yeux\n",
      "59039 : J'ouvre les yeux\n",
      "67072 : Je ferme les yeux\n",
      "74831 : J'ouvre les yeux\n",
      "82636 : Je ferme les yeux\n"
     ]
    }
   ],
   "source": [
    "#On localise les indices des 1\n",
    "print(\"0 : Je ferme les yeux\")\n",
    "for k in range(len(data)):\n",
    "    if(data[k][17]==1):\n",
    "        print(str(k)+\" : J'ouvre les yeux\")\n",
    "    if(data[k][18]==1):\n",
    "        print(str(k)+\" : Je ferme les yeux\")"
   ]
  },
  {
   "cell_type": "code",
   "execution_count": 6,
   "metadata": {},
   "outputs": [],
   "source": [
    "#On modifie pour avoir un dataset avec 1 : yeux ouvert et -1 yeux fermée\n",
    "new_data=[]\n",
    "yeux_ouvert=False\n",
    "for k in range(len(data)):\n",
    "    if(yeux_ouvert==False):\n",
    "        tmp=np.append(data[k][1:17],-1)\n",
    "    else:\n",
    "        tmp=np.append(data[k][1:17],1)\n",
    "    new_data.append(tmp)\n",
    "    if(data[k][17]==1):\n",
    "        yeux_ouvert=True\n",
    "    if(data[k][18]==1):\n",
    "        yeux_ouvert=False"
   ]
  },
  {
   "cell_type": "code",
   "execution_count": 7,
   "metadata": {},
   "outputs": [
    {
     "name": "stdout",
     "output_type": "stream",
     "text": [
      "91072\n",
      "17\n"
     ]
    }
   ],
   "source": [
    "print(len(new_data))\n",
    "print(len(new_data[0]))"
   ]
  },
  {
   "cell_type": "code",
   "execution_count": 8,
   "metadata": {},
   "outputs": [],
   "source": [
    "data = new_data"
   ]
  },
  {
   "cell_type": "code",
   "execution_count": 9,
   "metadata": {},
   "outputs": [],
   "source": [
    "import pyriemann\n",
    "from sklearn.model_selection import cross_val_score"
   ]
  },
  {
   "cell_type": "code",
   "execution_count": 10,
   "metadata": {},
   "outputs": [],
   "source": [
    "labels_train = [d[16] for d in data]\n",
    "donnees_train = [d[:16] for d in data]"
   ]
  },
  {
   "cell_type": "code",
   "execution_count": 26,
   "metadata": {},
   "outputs": [
    {
     "name": "stdout",
     "output_type": "stream",
     "text": [
      "X shape : (4392, 16, 20)\n",
      "cov shape : (4392, 16, 16)\n",
      "(4392,)\n",
      "0.6588723624945114\n",
      "X shape : (2928, 16, 30)\n",
      "cov shape : (2928, 16, 16)\n",
      "(2928,)\n",
      "0.7184982935153583\n",
      "X shape : (2196, 16, 40)\n",
      "cov shape : (2196, 16, 16)\n",
      "(2196,)\n",
      "0.7453172187440605\n",
      "X shape : (1756, 16, 50)\n",
      "cov shape : (1756, 16, 16)\n",
      "(1756,)\n",
      "0.7555481370481372\n",
      "X shape : (1463, 16, 60)\n",
      "cov shape : (1463, 16, 16)\n",
      "(1463,)\n",
      "0.7618933917014372\n",
      "X shape : (1254, 16, 70)\n",
      "cov shape : (1254, 16, 16)\n",
      "(1254,)\n",
      "0.7587936507936508\n",
      "X shape : (1097, 16, 80)\n",
      "cov shape : (1097, 16, 16)\n",
      "(1097,)\n",
      "0.7672786682966399\n",
      "X shape : (975, 16, 90)\n",
      "cov shape : (975, 16, 16)\n",
      "(975,)\n",
      "0.764102564102564\n",
      "X shape : (877, 16, 100)\n",
      "cov shape : (877, 16, 16)\n",
      "(877,)\n",
      "0.7682532467532467\n",
      "X shape : (797, 16, 110)\n",
      "cov shape : (797, 16, 16)\n",
      "(797,)\n",
      "0.7638050314465408\n",
      "X shape : (730, 16, 120)\n",
      "cov shape : (730, 16, 16)\n",
      "(730,)\n",
      "0.7650879983547505\n",
      "X shape : (673, 16, 130)\n",
      "cov shape : (673, 16, 16)\n",
      "(673,)\n",
      "0.7723051409618574\n",
      "X shape : (624, 16, 140)\n",
      "cov shape : (624, 16, 16)\n",
      "(624,)\n",
      "0.7619815668202765\n",
      "X shape : (582, 16, 150)\n",
      "cov shape : (582, 16, 16)\n",
      "(582,)\n",
      "0.7744768641320366\n",
      "X shape : (545, 16, 160)\n",
      "cov shape : (545, 16, 16)\n",
      "(545,)\n",
      "0.7826809378185525\n",
      "X shape : (512, 16, 170)\n",
      "cov shape : (512, 16, 16)\n",
      "(512,)\n",
      "0.7729260935143287\n",
      "X shape : (483, 16, 180)\n",
      "cov shape : (483, 16, 16)\n",
      "(483,)\n",
      "0.7697379725085911\n",
      "X shape : (457, 16, 190)\n",
      "cov shape : (457, 16, 16)\n",
      "(457,)\n",
      "0.7697085523172479\n",
      "X shape : (434, 16, 200)\n",
      "cov shape : (434, 16, 16)\n",
      "(434,)\n",
      "0.7687206872250978\n",
      "X shape : (413, 16, 210)\n",
      "cov shape : (413, 16, 16)\n",
      "(413,)\n",
      "0.7573023802527182\n",
      "X shape : (394, 16, 220)\n",
      "cov shape : (394, 16, 16)\n",
      "(394,)\n",
      "0.7630558260305096\n",
      "X shape : (376, 16, 230)\n",
      "cov shape : (376, 16, 16)\n",
      "(376,)\n",
      "0.7649919393077288\n",
      "X shape : (360, 16, 240)\n",
      "cov shape : (360, 16, 16)\n",
      "(360,)\n",
      "0.7514293523699274\n",
      "X shape : (345, 16, 250)\n",
      "cov shape : (345, 16, 16)\n",
      "(345,)\n",
      "0.7536231884057971\n",
      "X shape : (331, 16, 260)\n",
      "cov shape : (331, 16, 16)\n",
      "(331,)\n",
      "0.7754117524266778\n",
      "X shape : (318, 16, 270)\n",
      "cov shape : (318, 16, 16)\n",
      "(318,)\n",
      "0.7568315018315018\n",
      "X shape : (306, 16, 280)\n",
      "cov shape : (306, 16, 16)\n",
      "(306,)\n",
      "0.7479640401903754\n",
      "X shape : (295, 16, 290)\n",
      "cov shape : (295, 16, 16)\n",
      "(295,)\n",
      "0.7627118644067797\n",
      "X shape : (285, 16, 300)\n",
      "cov shape : (285, 16, 16)\n",
      "(285,)\n",
      "0.7678398582663555\n",
      "X shape : (275, 16, 310)\n",
      "cov shape : (275, 16, 16)\n",
      "(275,)\n",
      "0.7335185185185185\n",
      "X shape : (266, 16, 320)\n",
      "cov shape : (266, 16, 16)\n",
      "(266,)\n",
      "0.7401118099231306\n",
      "X shape : (257, 16, 330)\n",
      "cov shape : (257, 16, 16)\n",
      "(257,)\n",
      "0.7337978883861237\n",
      "X shape : (249, 16, 340)\n",
      "cov shape : (249, 16, 16)\n",
      "(249,)\n",
      "0.753688675470188\n",
      "X shape : (241, 16, 350)\n",
      "cov shape : (241, 16, 16)\n",
      "(241,)\n",
      "0.7795918367346938\n",
      "X shape : (234, 16, 360)\n",
      "cov shape : (234, 16, 16)\n",
      "(234,)\n",
      "0.7378160653715695\n",
      "X shape : (227, 16, 370)\n",
      "cov shape : (227, 16, 16)\n",
      "(227,)\n",
      "0.73877031181379\n",
      "X shape : (221, 16, 380)\n",
      "cov shape : (221, 16, 16)\n",
      "(221,)\n",
      "0.7143434343434343\n",
      "X shape : (215, 16, 390)\n",
      "cov shape : (215, 16, 16)\n",
      "(215,)\n",
      "0.7573240712775596\n",
      "X shape : (209, 16, 400)\n",
      "cov shape : (209, 16, 16)\n",
      "(209,)\n",
      "0.7302811765659185\n",
      "X shape : (203, 16, 410)\n",
      "cov shape : (203, 16, 16)\n",
      "(203,)\n",
      "0.7372764227642276\n",
      "X shape : (198, 16, 420)\n",
      "cov shape : (198, 16, 16)\n",
      "(198,)\n",
      "0.7467948717948717\n",
      "X shape : (193, 16, 430)\n",
      "cov shape : (193, 16, 16)\n",
      "(193,)\n",
      "0.7241565452091767\n",
      "X shape : (188, 16, 440)\n",
      "cov shape : (188, 16, 16)\n",
      "(188,)\n",
      "0.6957325746799431\n",
      "X shape : (183, 16, 450)\n",
      "cov shape : (183, 16, 16)\n",
      "(183,)\n",
      "0.7136241504662558\n",
      "X shape : (179, 16, 460)\n",
      "cov shape : (179, 16, 16)\n",
      "(179,)\n",
      "0.718996138996139\n",
      "X shape : (175, 16, 470)\n",
      "cov shape : (175, 16, 16)\n",
      "(175,)\n",
      "0.7028571428571428\n",
      "X shape : (171, 16, 480)\n",
      "cov shape : (171, 16, 16)\n",
      "(171,)\n",
      "0.7588999236058059\n",
      "X shape : (167, 16, 490)\n",
      "cov shape : (167, 16, 16)\n",
      "(167,)\n",
      "0.7532467532467532\n"
     ]
    }
   ],
   "source": [
    "#512 Hz\n",
    "#On prend 52 trial par échantillon pour avoir un temps de reaction d'environ 0,1015625s\n",
    "#On supprime les derniers echantillons pour avoir un multiple de 52 et donc des matrices completes\n",
    "result_acc=[]\n",
    "tab_trail=[]\n",
    "for mult in range(2,50):#50\n",
    "    nb_trail=mult*10#52\n",
    "    nb_paquet=int(len(donnees_train)/nb_trail)\n",
    "    donnees_train = donnees_train[:nb_trail*nb_paquet]\n",
    "    X=np.array(np.split(np.array(donnees_train), nb_paquet))#Ntrial*Nchannels*Nsample\n",
    "    X=np.swapaxes(X,1,2)\n",
    "    #estimer la matrice de covariance\n",
    "    cov = pyriemann.estimation.Covariances().fit_transform(X)\n",
    "    print(\"X shape : \"+str(X.shape))\n",
    "    print(\"cov shape : \"+str(cov.shape))\n",
    "\n",
    "    #validation croisée\n",
    "    mdm = pyriemann.classification.MDM()\n",
    "    #mdm =  pyriemann.classification.KNearestNeighbor(n_neighbors=10)\n",
    "    \n",
    "    #On modifie les y pour qu'il y est qu'un chiffre tout les 52 enregistrement, on prendra dans un premier temps juste\n",
    "    #le premier label sur les 52 pour estimer les 52 suivant\n",
    "    labels_train = labels_train[:nb_trail*nb_paquet]\n",
    "    yTemp = np.array(np.split(np.array(labels_train), nb_paquet))\n",
    "    y=np.array([u[0] for u in yTemp])\n",
    "    print(y.shape)\n",
    "    accuracy = cross_val_score(mdm, cov , y,cv=5)\n",
    "    print(accuracy.mean())\n",
    "    tab_trail.append(nb_trail)\n",
    "    result_acc.append(accuracy.mean())"
   ]
  },
  {
   "cell_type": "code",
   "execution_count": 27,
   "metadata": {},
   "outputs": [
    {
     "data": {
      "image/png": "[encoded data removed]",
      "text/plain": [
       "<Figure size 432x288 with 1 Axes>"
      ]
     },
     "metadata": {
      "needs_background": "light"
     },
     "output_type": "display_data"
    }
   ],
   "source": [
    "import matplotlib.pyplot as plt\n",
    "plt.plot(tab_trail,result_acc)\n",
    "plt.show()"
   ]
  },
  {
   "cell_type": "code",
   "execution_count": null,
   "metadata": {},
   "outputs": [],
   "source": []
  }
 ],
 "metadata": {
  "kernelspec": {
   "display_name": "Python 3",
   "language": "python",
   "name": "python3"
  },
  "language_info": {
   "codemirror_mode": {
    "name": "ipython",
    "version": 3
   },
   "file_extension": ".py",
   "mimetype": "text/x-python",
   "name": "python",
   "nbconvert_exporter": "python",
   "pygments_lexer": "ipython3",
   "version": "3.6.7"
  }
 },
 "nbformat": 4,
 "nbformat_minor": 2
}
