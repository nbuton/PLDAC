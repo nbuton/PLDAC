{
 "cells": [
  {
   "cell_type": "code",
   "execution_count": 1,
   "metadata": {},
   "outputs": [],
   "source": [
    "import mne\n",
    "from scipy.io import loadmat\n",
    "import numpy as np"
   ]
  },
  {
   "cell_type": "code",
   "execution_count": 2,
   "metadata": {},
   "outputs": [],
   "source": [
    "def file_to_data(fileName):\n",
    "    chnames = ['Fp1','Fp2','Fc5','Fz','Fc6','T7','Cz','T8','P7','P3','Pz','P4','P8','O1','Oz','O2','stim']\n",
    "    chtypes = ['eeg'] * 16 + ['stim']\n",
    "    info = mne.create_info(ch_names=chnames, sfreq=512,ch_types=chtypes, montage='standard_1020',verbose=False)\n",
    "    data = loadmat(fileName)[\"SIGNAL\"]\n",
    "    #On modifie pour avoir un dataset avec 1 : yeux ouvert et -1 yeux fermée\n",
    "    new_data=[]\n",
    "    yeux_ouvert=False\n",
    "    for k in range(len(data)):\n",
    "        if(yeux_ouvert==False):\n",
    "            tmp=np.append(data[k][1:17],-1)\n",
    "        else:\n",
    "            tmp=np.append(data[k][1:17],1)\n",
    "        new_data.append(tmp)\n",
    "        if(data[k][17]==1):\n",
    "            yeux_ouvert=True\n",
    "        if(data[k][18]==1):\n",
    "            yeux_ouvert=False\n",
    "    labels= [d[16] for d in new_data]\n",
    "    donnees = [d[:16] for d in new_data]\n",
    "    return donnees,labels"
   ]
  },
  {
   "cell_type": "code",
   "execution_count": 3,
   "metadata": {},
   "outputs": [],
   "source": [
    "donnees,labels = file_to_data(\"data/subject_01.mat\")"
   ]
  },
  {
   "cell_type": "code",
   "execution_count": 4,
   "metadata": {},
   "outputs": [],
   "source": [
    "import pyriemann\n",
    "from sklearn.model_selection import cross_val_predict\n",
    "from sklearn.metrics import classification_report\n",
    "from sklearn.linear_model import SGDClassifier"
   ]
  },
  {
   "cell_type": "code",
   "execution_count": 24,
   "metadata": {},
   "outputs": [],
   "source": [
    "def cross_val_riemann(donnees,labels,nb_trail):\n",
    "    nb_paquet=int(len(donnees)/nb_trail)\n",
    "    donnees = donnees[:nb_trail*nb_paquet]\n",
    "    X=np.array(np.split(np.array(donnees), nb_paquet))#Ntrial*Nchannels*Nsample\n",
    "    X=np.swapaxes(X,1,2)\n",
    "    #estimer la matrice de covariance\n",
    "    cov = pyriemann.estimation.Covariances().fit_transform(X)\n",
    "\n",
    "    #validation croisée\n",
    "    mdm = pyriemann.classification.MDM()\n",
    "    \n",
    "    #On modifie les y pour qu'il y est qu'un chiffre tout les 52 enregistrement, on prendra dans un premier temps juste\n",
    "    #le premier label sur les 52 pour estimer les 52 suivant\n",
    "    labels = labels[:nb_trail*nb_paquet]\n",
    "    yTemp = np.array(np.split(np.array(labels), nb_paquet))\n",
    "    Y=[]\n",
    "    for u in yTemp:\n",
    "        if(np.mean(u)>0):\n",
    "            Y.append(1)\n",
    "        else:\n",
    "            Y.append(-1)\n",
    "    Y=np.array(Y)\n",
    "    y_pred = cross_val_predict(mdm,cov,Y,cv=5)\n",
    "    rapport = classification_report(Y, y_pred,output_dict=True)\n",
    "    return rapport['micro avg'][\"f1-score\"]"
   ]
  },
  {
   "cell_type": "code",
   "execution_count": 25,
   "metadata": {},
   "outputs": [
    {
     "name": "stdout",
     "output_type": "stream",
     "text": [
      "20\n",
      "F1 Score riemann : 0.7919866444073456\n",
      "30\n",
      "F1 Score riemann : 0.7948910593538693\n",
      "40\n",
      "F1 Score riemann : 0.8023372287145242\n",
      "50\n",
      "F1 Score riemann : 0.7929883138564274\n",
      "60\n",
      "F1 Score riemann : 0.8046092184368737\n",
      "70\n",
      "F1 Score riemann : 0.804208065458796\n",
      "80\n",
      "F1 Score riemann : 0.802939211756847\n",
      "90\n",
      "F1 Score riemann : 0.7978963185574756\n",
      "100\n",
      "F1 Score riemann : 0.7996661101836394\n",
      "110\n",
      "F1 Score riemann : 0.7952249770431589\n",
      "120\n",
      "F1 Score riemann : 0.8026052104208418\n",
      "130\n",
      "F1 Score riemann : 0.7947882736156352\n",
      "140\n",
      "F1 Score riemann : 0.7929824561403509\n",
      "150\n",
      "F1 Score riemann : 0.793233082706767\n",
      "160\n",
      "F1 Score riemann : 0.7914438502673797\n",
      "170\n",
      "F1 Score riemann : 0.7855113636363638\n",
      "180\n",
      "F1 Score riemann : 0.7954887218045111\n",
      "190\n",
      "F1 Score riemann : 0.792063492063492\n",
      "200\n",
      "F1 Score riemann : 0.7929883138564274\n",
      "210\n",
      "F1 Score riemann : 0.7912280701754386\n",
      "220\n",
      "F1 Score riemann : 0.7996323529411765\n",
      "230\n",
      "F1 Score riemann : 0.7846153846153847\n",
      "240\n",
      "F1 Score riemann : 0.781563126252505\n",
      "250\n",
      "F1 Score riemann : 0.791231732776618\n",
      "260\n",
      "F1 Score riemann : 0.7891304347826087\n",
      "270\n",
      "F1 Score riemann : 0.7584650112866818\n",
      "280\n",
      "F1 Score riemann : 0.7962529274004684\n",
      "290\n",
      "F1 Score riemann : 0.7796610169491526\n",
      "300\n",
      "F1 Score riemann : 0.7894736842105263\n",
      "310\n",
      "F1 Score riemann : 0.7797927461139896\n",
      "320\n",
      "F1 Score riemann : 0.7967914438502673\n",
      "330\n",
      "F1 Score riemann : 0.7713498622589532\n",
      "340\n",
      "F1 Score riemann : 0.7869318181818182\n",
      "350\n",
      "F1 Score riemann : 0.7923976608187134\n",
      "360\n",
      "F1 Score riemann : 0.7771084337349399\n",
      "370\n",
      "F1 Score riemann : 0.7801857585139319\n",
      "380\n",
      "F1 Score riemann : 0.780952380952381\n",
      "390\n",
      "F1 Score riemann : 0.7785016286644951\n",
      "400\n",
      "F1 Score riemann : 0.7692307692307693\n",
      "410\n",
      "F1 Score riemann : 0.7773972602739726\n",
      "420\n",
      "F1 Score riemann : 0.7754385964912279\n",
      "430\n",
      "F1 Score riemann : 0.7805755395683454\n",
      "440\n",
      "F1 Score riemann : 0.7904411764705882\n",
      "450\n",
      "F1 Score riemann : 0.7744360902255639\n",
      "460\n",
      "F1 Score riemann : 0.7769230769230768\n",
      "470\n",
      "F1 Score riemann : 0.7677165354330707\n",
      "480\n",
      "F1 Score riemann : 0.7791164658634538\n",
      "490\n",
      "F1 Score riemann : 0.7704918032786885\n"
     ]
    }
   ],
   "source": [
    "#512 Hz\n",
    "#On prend 52 trial par échantillon pour avoir un temps de reaction d'environ 0,1015625s\n",
    "#On supprime les derniers echantillons pour avoir un multiple de 52 et donc des matrices completes\n",
    "tab_trail=[]\n",
    "result_f1Score=[]\n",
    "for mult in range(2,50):\n",
    "    nb_trail=mult*10\n",
    "    print(nb_trail)\n",
    "    tab_trail.append(nb_trail)\n",
    "    f1Score = cross_val_riemann(donnees,labels,nb_trail)\n",
    "    result_f1Score.append(f1Score)\n",
    "    print(\"F1 Score riemann : \"+str(f1Score))"
   ]
  },
  {
   "cell_type": "code",
   "execution_count": 26,
   "metadata": {},
   "outputs": [
    {
     "data": {
      "image/png": "[encoded data removed]",
      "text/plain": [
       "<Figure size 432x288 with 1 Axes>"
      ]
     },
     "metadata": {
      "needs_background": "light"
     },
     "output_type": "display_data"
    }
   ],
   "source": [
    "import matplotlib.pyplot as plt\n",
    "plt.plot(tab_trail,result_f1Score,label=\"riemmann\")\n",
    "plt.legend()\n",
    "plt.show()"
   ]
  },
  {
   "cell_type": "code",
   "execution_count": null,
   "metadata": {},
   "outputs": [],
   "source": []
  }
 ],
 "metadata": {
  "kernelspec": {
   "display_name": "Python 3",
   "language": "python",
   "name": "python3"
  },
  "language_info": {
   "codemirror_mode": {
    "name": "ipython",
    "version": 3
   },
   "file_extension": ".py",
   "mimetype": "text/x-python",
   "name": "python",
   "nbconvert_exporter": "python",
   "pygments_lexer": "ipython3",
   "version": "3.6.7"
  }
 },
 "nbformat": 4,
 "nbformat_minor": 2
}
