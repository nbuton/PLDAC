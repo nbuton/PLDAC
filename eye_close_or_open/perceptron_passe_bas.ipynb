{
 "cells": [
  {
   "cell_type": "code",
   "execution_count": 1,
   "metadata": {},
   "outputs": [],
   "source": [
    "import mne\n",
    "from scipy.io import loadmat\n",
    "import numpy as np"
   ]
  },
  {
   "cell_type": "code",
   "execution_count": 2,
   "metadata": {},
   "outputs": [],
   "source": [
    "def file_to_data(fileName):\n",
    "    chnames = ['Fp1','Fp2','Fc5','Fz','Fc6','T7','Cz','T8','P7','P3','Pz','P4','P8','O1','Oz','O2','stim']\n",
    "    chtypes = ['eeg'] * 16 + ['stim']\n",
    "    info = mne.create_info(ch_names=chnames, sfreq=512,ch_types=chtypes, montage='standard_1020',verbose=False)\n",
    "    data = loadmat(fileName)[\"SIGNAL\"]\n",
    "    #On modifie pour avoir un dataset avec 1 : yeux ouvert et -1 yeux fermée\n",
    "    new_data=[]\n",
    "    yeux_ouvert=False\n",
    "    for k in range(len(data)):\n",
    "        if(yeux_ouvert==False):\n",
    "            tmp=np.append(data[k][1:17],-1)\n",
    "        else:\n",
    "            tmp=np.append(data[k][1:17],1)\n",
    "        new_data.append(tmp)\n",
    "        if(data[k][17]==1):\n",
    "            yeux_ouvert=True\n",
    "        if(data[k][18]==1):\n",
    "            yeux_ouvert=False\n",
    "    labels= [d[16] for d in new_data]\n",
    "    donnees = [d[:16] for d in new_data]\n",
    "    return donnees,labels"
   ]
  },
  {
   "cell_type": "code",
   "execution_count": 34,
   "metadata": {},
   "outputs": [
    {
     "name": "stdout",
     "output_type": "stream",
     "text": [
      "119808\n",
      "16\n"
     ]
    }
   ],
   "source": [
    "donnees,labels = file_to_data(\"data/subject_01.mat\")\n",
    "print(len(donnees))\n",
    "print(len(donnees[0]))"
   ]
  },
  {
   "cell_type": "code",
   "execution_count": 35,
   "metadata": {},
   "outputs": [],
   "source": [
    "new_donnees=[]\n",
    "moyennation=20\n",
    "for k in range(len(donnees)):\n",
    "    if(k>moyennation):\n",
    "        tmp=[]\n",
    "        for i in range(len(donnees[k])):\n",
    "            tmp.append(np.mean(donnees[k-moyennation:k][i]))\n",
    "        new_donnees.append(tmp)\n",
    "donnees=new_donnees\n",
    "labels=labels[:-moyennation-1]"
   ]
  },
  {
   "cell_type": "code",
   "execution_count": 36,
   "metadata": {},
   "outputs": [],
   "source": [
    "from sklearn.model_selection import cross_val_predict\n",
    "from sklearn.linear_model import SGDClassifier\n",
    "from sklearn.metrics import classification_report\n",
    "import matplotlib.pyplot as plt"
   ]
  },
  {
   "cell_type": "code",
   "execution_count": 37,
   "metadata": {},
   "outputs": [
    {
     "name": "stdout",
     "output_type": "stream",
     "text": [
      "75.0% du dataset pour le train\n",
      "F1 Score : 0.5746950837736983\n",
      "80.0% du dataset pour le train\n",
      "F1 Score : 0.47012614056617164\n",
      "83.33333333333334% du dataset pour le train\n",
      "F1 Score : 0.5497925484401479\n",
      "85.71428571428571% du dataset pour le train\n",
      "F1 Score : 0.4359738535901225\n",
      "87.5% du dataset pour le train\n",
      "F1 Score : 0.5373538030003255\n",
      "88.88888888888889% du dataset pour le train\n",
      "F1 Score : 0.5829931461677812\n",
      "90.0% du dataset pour le train\n",
      "F1 Score : 0.5556446025027758\n",
      "90.9090909090909% du dataset pour le train\n",
      "F1 Score : 0.5950562247990182\n",
      "91.66666666666666% du dataset pour le train\n",
      "F1 Score : 0.5995892709559468\n",
      "92.3076923076923% du dataset pour le train\n",
      "F1 Score : 0.6034127242522144\n",
      "92.85714285714286% du dataset pour le train\n",
      "F1 Score : 0.5229031530967467\n",
      "93.33333333333333% du dataset pour le train\n",
      "F1 Score : 0.506073280072128\n",
      "93.75% du dataset pour le train\n",
      "F1 Score : 0.585923347274746\n",
      "94.11764705882352% du dataset pour le train\n",
      "F1 Score : 0.5526476161853957\n",
      "94.44444444444444% du dataset pour le train\n",
      "F1 Score : 0.5663385843205022\n",
      "94.73684210526315% du dataset pour le train\n",
      "F1 Score : 0.5392655296484593\n",
      "95.0% du dataset pour le train\n",
      "F1 Score : 0.5290056516984314\n",
      "95.23809523809523% du dataset pour le train\n",
      "F1 Score : 0.5355088615626069\n",
      "95.45454545454545% du dataset pour le train\n",
      "F1 Score : 0.5803885229615902\n",
      "95.65217391304348% du dataset pour le train\n",
      "F1 Score : 0.542446175294481\n",
      "95.83333333333334% du dataset pour le train\n",
      "F1 Score : 0.5746950837736983\n",
      "{'-1.0': {'precision': 0.6493805723444752, 'recall': 0.750009641713911, 'f1-score': 0.6960770277042021, 'support': 77787}, '1.0': {'precision': 0.3506311360448808, 'recall': 0.25, 'f1-score': 0.29188558085230587, 'support': 42000}, 'micro avg': {'precision': 0.5746950837736983, 'recall': 0.5746950837736983, 'f1-score': 0.5746950837736983, 'support': 119787}, 'macro avg': {'precision': 0.500005854194678, 'recall': 0.5000048208569555, 'f1-score': 0.493981304278254, 'support': 119787}, 'weighted avg': {'precision': 0.5446323415299213, 'recall': 0.5746950837736983, 'f1-score': 0.5543584708676536, 'support': 119787}}\n"
     ]
    }
   ],
   "source": [
    "#validation croisée Perceptron\n",
    "#tol =1e-1 condition d'arret\n",
    "tab_f1_score=[]\n",
    "tab_pourcentage_train=[]\n",
    "for k in range(4,25):\n",
    "    tab_pourcentage_train.append( ( (k-1)/k )*100 )\n",
    "    print(str(( (k-1)/k )*100)+\"% du dataset pour le train\")\n",
    "    clf = SGDClassifier(loss=\"perceptron\", eta0=1e-4, learning_rate=\"constant\", penalty=None,tol=1e-1,max_iter=10000,shuffle=True)\n",
    "    y_pred = cross_val_predict(clf,donnees,labels,cv=k)\n",
    "    rapport = classification_report(labels, y_pred,output_dict=True)\n",
    "    print(\"F1 Score : \"+str(rapport['micro avg'][\"f1-score\"]))\n",
    "    tab_f1_score.append(rapport['micro avg'][\"f1-score\"])\n",
    "print(rapport)"
   ]
  },
  {
   "cell_type": "code",
   "execution_count": 38,
   "metadata": {},
   "outputs": [
    {
     "data": {
      "image/png": "[encoded data removed]",
      "text/plain": [
       "<Figure size 432x288 with 1 Axes>"
      ]
     },
     "metadata": {
      "needs_background": "light"
     },
     "output_type": "display_data"
    }
   ],
   "source": [
    "plt.plot(tab_pourcentage_train,tab_f1_score)\n",
    "plt.show()"
   ]
  },
  {
   "cell_type": "code",
   "execution_count": null,
   "metadata": {},
   "outputs": [],
   "source": []
  }
 ],
 "metadata": {
  "kernelspec": {
   "display_name": "Python 3",
   "language": "python",
   "name": "python3"
  },
  "language_info": {
   "codemirror_mode": {
    "name": "ipython",
    "version": 3
   },
   "file_extension": ".py",
   "mimetype": "text/x-python",
   "name": "python",
   "nbconvert_exporter": "python",
   "pygments_lexer": "ipython3",
   "version": "3.6.7"
  }
 },
 "nbformat": 4,
 "nbformat_minor": 2
}
