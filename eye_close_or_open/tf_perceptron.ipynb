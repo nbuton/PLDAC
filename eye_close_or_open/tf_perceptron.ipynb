{
 "cells": [
  {
   "cell_type": "code",
   "execution_count": 2,
   "metadata": {},
   "outputs": [],
   "source": [
    "import mne\n",
    "from scipy.io import loadmat\n",
    "import numpy as np"
   ]
  },
  {
   "cell_type": "code",
   "execution_count": 3,
   "metadata": {},
   "outputs": [],
   "source": [
    "def file_to_data(fileName):\n",
    "    chnames = ['Fp1','Fp2','Fc5','Fz','Fc6','T7','Cz','T8','P7','P3','Pz','P4','P8','O1','Oz','O2','stim']\n",
    "    chtypes = ['eeg'] * 16 + ['stim']\n",
    "    info = mne.create_info(ch_names=chnames, sfreq=512,ch_types=chtypes, montage='standard_1020',verbose=False)\n",
    "    data = loadmat(fileName)[\"SIGNAL\"]\n",
    "    #On modifie pour avoir un dataset avec 1 : yeux ouvert et -1 yeux fermée\n",
    "    new_data=[]\n",
    "    yeux_ouvert=False\n",
    "    for k in range(len(data)):\n",
    "        if(yeux_ouvert==False):\n",
    "            tmp=np.append(data[k][1:17],-1)\n",
    "        else:\n",
    "            tmp=np.append(data[k][1:17],1)\n",
    "        new_data.append(tmp)\n",
    "        if(data[k][17]==1):\n",
    "            yeux_ouvert=True\n",
    "        if(data[k][18]==1):\n",
    "            yeux_ouvert=False\n",
    "    labels= [d[16] for d in new_data]\n",
    "    donnees = [d[:16] for d in new_data]\n",
    "    return donnees,labels"
   ]
  },
  {
   "cell_type": "code",
   "execution_count": 4,
   "metadata": {},
   "outputs": [],
   "source": [
    "donnees,labels = file_to_data(\"data/subject_01.mat\")"
   ]
  },
  {
   "cell_type": "code",
   "execution_count": 5,
   "metadata": {},
   "outputs": [],
   "source": [
    "import pyriemann\n",
    "from sklearn.model_selection import cross_val_predict\n",
    "from sklearn.metrics import classification_report\n",
    "from sklearn.linear_model import SGDClassifier\n",
    "import matplotlib.pyplot as plt"
   ]
  },
  {
   "cell_type": "code",
   "execution_count": 6,
   "metadata": {},
   "outputs": [
    {
     "name": "stdout",
     "output_type": "stream",
     "text": [
      "[0, 1]\n",
      "[0.         0.84147098]\n",
      "[ 0.84147098+0.j -0.84147098+0.j]\n"
     ]
    },
    {
     "name": "stderr",
     "output_type": "stream",
     "text": [
      "/home/nicolas/envPythonML/lib/python3.6/site-packages/numpy/core/numeric.py:501: ComplexWarning: Casting complex values to real discards the imaginary part\n",
      "  return array(a, dtype, copy=False, order=order)\n"
     ]
    },
    {
     "data": {
      "text/plain": [
       "[<matplotlib.lines.Line2D at 0x7fe794588f60>]"
      ]
     },
     "execution_count": 6,
     "metadata": {},
     "output_type": "execute_result"
    },
    {
     "data": {
      "image/png": "[encoded data removed]",
      "text/plain": [
       "<Figure size 432x288 with 1 Axes>"
      ]
     },
     "metadata": {
      "needs_background": "light"
     },
     "output_type": "display_data"
    }
   ],
   "source": [
    "sp = np.fft.fft(donnees[:][0])\n",
    "#plt.plot(sp)\n",
    "t = list(range(2))\n",
    "print(t)\n",
    "sinus = np.sin(t)\n",
    "print(sinus)\n",
    "sp = np.fft.fft(sinus)\n",
    "print(sp)\n",
    "plt.plot(sp)"
   ]
  },
  {
   "cell_type": "code",
   "execution_count": 11,
   "metadata": {},
   "outputs": [],
   "source": [
    "from numpy.fft import fft,fftfreq\n",
    "def spectre(signal):\n",
    "    n=len(signal)\n",
    "    freqs = fftfreq(n)\n",
    "    mask = freqs >0\n",
    "    fft_val = fft(signal)\n",
    "    fft_theo = 2.0*np.abs(fft_val/n)\n",
    "    return fft_theo[mask]\n",
    "def estimate_tf(matrice):\n",
    "    new_mat=[]\n",
    "    for ligne in matrice:\n",
    "        new_mat.append(spectre(ligne))\n",
    "    return new_mat\n",
    "def estimate_mult_matrice(data):\n",
    "    new_mat=[]\n",
    "    for matrice in data:\n",
    "        new_mat.append(estimate_tf(matrice))\n",
    "    return new_mat"
   ]
  },
  {
   "cell_type": "code",
   "execution_count": 20,
   "metadata": {},
   "outputs": [],
   "source": [
    "def cross_val_tf_perceptron(donnees,labels,nb_trail):\n",
    "    nb_paquet=int(len(donnees)/nb_trail)\n",
    "    donnees = donnees[:nb_trail*nb_paquet]\n",
    "    X=np.array(np.split(np.array(donnees), nb_paquet))#Ntrial*Nchannels*Nsample\n",
    "    X=np.swapaxes(X,1,2)\n",
    "    #estimer la matrice de covariance\n",
    "    tf_data = np.array(estimate_mult_matrice(X))\n",
    "    print(tf_data.shape)\n",
    "    tf_data=tf_data.reshape((tf_data.shape[0],tf_data.shape[1]*tf_data.shape[2]))\n",
    "    print(tf_data.shape)\n",
    "    #validation croisée\n",
    "    clf = SGDClassifier(loss=\"perceptron\", eta0=1e-4, learning_rate=\"constant\", penalty=None,tol=1e-1,max_iter=10000,shuffle=True)\n",
    "    #On modifie les y pour qu'il y est qu'un chiffre tout les 52 enregistrement, on prendra dans un premier temps juste\n",
    "    #le premier label sur les 52 pour estimer les 52 suivant\n",
    "    labels = labels[:nb_trail*nb_paquet]\n",
    "    yTemp = np.array(np.split(np.array(labels), nb_paquet))\n",
    "    Y=[]\n",
    "    for u in yTemp:\n",
    "        if(np.mean(u)>0):\n",
    "            Y.append(1)\n",
    "        else:\n",
    "            Y.append(-1)\n",
    "    Y=np.array(Y)\n",
    "    y_pred = cross_val_predict(clf,tf_data,Y,cv=5)\n",
    "    rapport = classification_report(Y, y_pred,output_dict=True)\n",
    "    return rapport['micro avg'][\"f1-score\"]"
   ]
  },
  {
   "cell_type": "code",
   "execution_count": 21,
   "metadata": {},
   "outputs": [
    {
     "name": "stdout",
     "output_type": "stream",
     "text": [
      "20\n",
      "(5990, 16, 9)\n",
      "(5990, 144)\n",
      "F1 Score riemann : 0.6377295492487479\n",
      "30\n",
      "(3993, 16, 14)\n",
      "(3993, 224)\n",
      "F1 Score riemann : 0.7590783871775607\n",
      "40\n",
      "(2995, 16, 19)\n",
      "(2995, 304)\n",
      "F1 Score riemann : 0.7181969949916527\n",
      "50\n",
      "(2396, 16, 24)\n",
      "(2396, 384)\n",
      "F1 Score riemann : 0.7141068447412353\n",
      "60\n",
      "(1996, 16, 29)\n",
      "(1996, 464)\n",
      "F1 Score riemann : 0.6277555110220441\n",
      "70\n",
      "(1711, 16, 34)\n",
      "(1711, 544)\n",
      "F1 Score riemann : 0.6499123319696084\n",
      "80\n",
      "(1497, 16, 39)\n",
      "(1497, 624)\n",
      "F1 Score riemann : 0.7221108884435538\n",
      "90\n",
      "(1331, 16, 44)\n",
      "(1331, 704)\n",
      "F1 Score riemann : 0.768595041322314\n",
      "100\n",
      "(1198, 16, 49)\n",
      "(1198, 784)\n",
      "F1 Score riemann : 0.6502504173622704\n",
      "110\n",
      "(1089, 16, 54)\n",
      "(1089, 864)\n",
      "F1 Score riemann : 0.7134986225895316\n",
      "120\n",
      "(998, 16, 59)\n",
      "(998, 944)\n",
      "F1 Score riemann : 0.7194388777555111\n",
      "130\n",
      "(921, 16, 64)\n",
      "(921, 1024)\n",
      "F1 Score riemann : 0.6514657980456026\n",
      "140\n",
      "(855, 16, 69)\n",
      "(855, 1104)\n",
      "F1 Score riemann : 0.639766081871345\n",
      "150\n",
      "(798, 16, 74)\n",
      "(798, 1184)\n",
      "F1 Score riemann : 0.6716791979949874\n",
      "160\n",
      "(748, 16, 79)\n",
      "(748, 1264)\n",
      "F1 Score riemann : 0.7032085561497327\n",
      "170\n",
      "(704, 16, 84)\n",
      "(704, 1344)\n",
      "F1 Score riemann : 0.7173295454545453\n",
      "180\n",
      "(665, 16, 89)\n",
      "(665, 1424)\n",
      "F1 Score riemann : 0.6781954887218045\n",
      "190\n",
      "(630, 16, 94)\n",
      "(630, 1504)\n",
      "F1 Score riemann : 0.7158730158730159\n",
      "200\n",
      "(599, 16, 99)\n",
      "(599, 1584)\n",
      "F1 Score riemann : 0.7295492487479132\n",
      "210\n",
      "(570, 16, 104)\n",
      "(570, 1664)\n",
      "F1 Score riemann : 0.7473684210526316\n",
      "220\n",
      "(544, 16, 109)\n",
      "(544, 1744)\n",
      "F1 Score riemann : 0.735294117647059\n",
      "230\n",
      "(520, 16, 114)\n",
      "(520, 1824)\n",
      "F1 Score riemann : 0.6538461538461539\n",
      "240\n",
      "(499, 16, 119)\n",
      "(499, 1904)\n",
      "F1 Score riemann : 0.6793587174348698\n",
      "250\n",
      "(479, 16, 124)\n",
      "(479, 1984)\n",
      "F1 Score riemann : 0.6993736951983298\n",
      "260\n",
      "(460, 16, 129)\n",
      "(460, 2064)\n",
      "F1 Score riemann : 0.7086956521739132\n",
      "270\n",
      "(443, 16, 134)\n",
      "(443, 2144)\n",
      "F1 Score riemann : 0.6094808126410836\n",
      "280\n",
      "(427, 16, 139)\n",
      "(427, 2224)\n",
      "F1 Score riemann : 0.7119437939110069\n",
      "290\n",
      "(413, 16, 144)\n",
      "(413, 2304)\n",
      "F1 Score riemann : 0.6585956416464891\n",
      "300\n",
      "(399, 16, 149)\n",
      "(399, 2384)\n",
      "F1 Score riemann : 0.6892230576441103\n",
      "310\n",
      "(386, 16, 154)\n",
      "(386, 2464)\n",
      "F1 Score riemann : 0.7279792746113991\n",
      "320\n",
      "(374, 16, 159)\n",
      "(374, 2544)\n",
      "F1 Score riemann : 0.6203208556149733\n",
      "330\n",
      "(363, 16, 164)\n",
      "(363, 2624)\n",
      "F1 Score riemann : 0.6804407713498623\n",
      "340\n",
      "(352, 16, 169)\n",
      "(352, 2704)\n",
      "F1 Score riemann : 0.5482954545454546\n",
      "350\n",
      "(342, 16, 174)\n",
      "(342, 2784)\n",
      "F1 Score riemann : 0.6432748538011696\n",
      "360\n",
      "(332, 16, 179)\n",
      "(332, 2864)\n",
      "F1 Score riemann : 0.6295180722891566\n",
      "370\n",
      "(323, 16, 184)\n",
      "(323, 2944)\n",
      "F1 Score riemann : 0.653250773993808\n",
      "380\n",
      "(315, 16, 189)\n",
      "(315, 3024)\n",
      "F1 Score riemann : 0.6698412698412698\n",
      "390\n",
      "(307, 16, 194)\n",
      "(307, 3104)\n",
      "F1 Score riemann : 0.6872964169381107\n",
      "400\n",
      "(299, 16, 199)\n",
      "(299, 3184)\n",
      "F1 Score riemann : 0.6220735785953178\n",
      "410\n",
      "(292, 16, 204)\n",
      "(292, 3264)\n",
      "F1 Score riemann : 0.7363013698630136\n",
      "420\n",
      "(285, 16, 209)\n",
      "(285, 3344)\n",
      "F1 Score riemann : 0.7017543859649122\n",
      "430\n",
      "(278, 16, 214)\n",
      "(278, 3424)\n",
      "F1 Score riemann : 0.6654676258992805\n",
      "440\n",
      "(272, 16, 219)\n",
      "(272, 3504)\n",
      "F1 Score riemann : 0.6875\n",
      "450\n",
      "(266, 16, 224)\n",
      "(266, 3584)\n",
      "F1 Score riemann : 0.6654135338345865\n",
      "460\n",
      "(260, 16, 229)\n",
      "(260, 3664)\n",
      "F1 Score riemann : 0.6615384615384615\n",
      "470\n",
      "(254, 16, 234)\n",
      "(254, 3744)\n",
      "F1 Score riemann : 0.6732283464566929\n",
      "480\n",
      "(249, 16, 239)\n",
      "(249, 3824)\n",
      "F1 Score riemann : 0.6506024096385542\n",
      "490\n",
      "(244, 16, 244)\n",
      "(244, 3904)\n",
      "F1 Score riemann : 0.7704918032786885\n"
     ]
    }
   ],
   "source": [
    "#512 Hz\n",
    "#On prend 52 trial par échantillon pour avoir un temps de reaction d'environ 0,1015625s\n",
    "#On supprime les derniers echantillons pour avoir un multiple de 52 et donc des matrices completes\n",
    "tab_trail=[]\n",
    "result_f1Score=[]\n",
    "for mult in range(2,50):\n",
    "    nb_trail=mult*10\n",
    "    print(nb_trail)\n",
    "    tab_trail.append(nb_trail)\n",
    "    f1Score = cross_val_tf_perceptron(donnees,labels,nb_trail)\n",
    "    result_f1Score.append(f1Score)\n",
    "    print(\"F1 Score riemann : \"+str(f1Score))"
   ]
  },
  {
   "cell_type": "code",
   "execution_count": 24,
   "metadata": {},
   "outputs": [
    {
     "data": {
      "image/png": "[encoded data removed]",
      "text/plain": [
       "<Figure size 432x288 with 1 Axes>"
      ]
     },
     "metadata": {
      "needs_background": "light"
     },
     "output_type": "display_data"
    }
   ],
   "source": [
    "plt.plot(tab_trail,result_f1Score,label=\"fourier_transform_perceptron\")\n",
    "plt.legend()\n",
    "plt.show()"
   ]
  },
  {
   "cell_type": "code",
   "execution_count": null,
   "metadata": {},
   "outputs": [],
   "source": []
  }
 ],
 "metadata": {
  "kernelspec": {
   "display_name": "Python 3",
   "language": "python",
   "name": "python3"
  },
  "language_info": {
   "codemirror_mode": {
    "name": "ipython",
    "version": 3
   },
   "file_extension": ".py",
   "mimetype": "text/x-python",
   "name": "python",
   "nbconvert_exporter": "python",
   "pygments_lexer": "ipython3",
   "version": "3.6.7"
  }
 },
 "nbformat": 4,
 "nbformat_minor": 2
}
