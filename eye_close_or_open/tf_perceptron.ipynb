{
 "cells": [
  {
   "cell_type": "code",
   "execution_count": 1,
   "metadata": {},
   "outputs": [],
   "source": [
    "import mne\n",
    "from scipy.io import loadmat\n",
    "import numpy as np"
   ]
  },
  {
   "cell_type": "code",
   "execution_count": 2,
   "metadata": {},
   "outputs": [],
   "source": [
    "def file_to_data(fileName):\n",
    "    chnames = ['Fp1','Fp2','Fc5','Fz','Fc6','T7','Cz','T8','P7','P3','Pz','P4','P8','O1','Oz','O2','stim']\n",
    "    chtypes = ['eeg'] * 16 + ['stim']\n",
    "    info = mne.create_info(ch_names=chnames, sfreq=512,ch_types=chtypes, montage='standard_1020',verbose=False)\n",
    "    data = loadmat(fileName)[\"SIGNAL\"]\n",
    "    #On modifie pour avoir un dataset avec 1 : yeux ouvert et -1 yeux fermée\n",
    "    new_data=[]\n",
    "    yeux_ouvert=False\n",
    "    for k in range(len(data)):\n",
    "        if(yeux_ouvert==False):\n",
    "            tmp=np.append(data[k][1:17],-1)\n",
    "        else:\n",
    "            tmp=np.append(data[k][1:17],1)\n",
    "        new_data.append(tmp)\n",
    "        if(data[k][17]==1):\n",
    "            yeux_ouvert=True\n",
    "        if(data[k][18]==1):\n",
    "            yeux_ouvert=False\n",
    "    labels= [d[16] for d in new_data]\n",
    "    donnees = [d[:16] for d in new_data]\n",
    "    return donnees,labels"
   ]
  },
  {
   "cell_type": "code",
   "execution_count": 3,
   "metadata": {},
   "outputs": [],
   "source": [
    "donnees,labels = file_to_data(\"data/subject_01.mat\")"
   ]
  },
  {
   "cell_type": "code",
   "execution_count": 4,
   "metadata": {},
   "outputs": [],
   "source": [
    "import pyriemann\n",
    "from sklearn.model_selection import cross_val_predict\n",
    "from sklearn.metrics import classification_report\n",
    "from sklearn.linear_model import SGDClassifier\n",
    "import matplotlib.pyplot as plt"
   ]
  },
  {
   "cell_type": "code",
   "execution_count": 5,
   "metadata": {},
   "outputs": [
    {
     "name": "stdout",
     "output_type": "stream",
     "text": [
      "[0, 1]\n",
      "[0.         0.84147098]\n",
      "[ 0.84147098+0.j -0.84147098+0.j]\n"
     ]
    },
    {
     "name": "stderr",
     "output_type": "stream",
     "text": [
      "/home/nicolas/envPythonML/lib/python3.6/site-packages/numpy/core/numeric.py:501: ComplexWarning: Casting complex values to real discards the imaginary part\n",
      "  return array(a, dtype, copy=False, order=order)\n"
     ]
    },
    {
     "data": {
      "text/plain": [
       "[<matplotlib.lines.Line2D at 0x7f66931d2438>]"
      ]
     },
     "execution_count": 5,
     "metadata": {},
     "output_type": "execute_result"
    },
    {
     "data": {
      "image/png": "[encoded data removed]",
      "text/plain": [
       "<Figure size 432x288 with 1 Axes>"
      ]
     },
     "metadata": {
      "needs_background": "light"
     },
     "output_type": "display_data"
    }
   ],
   "source": [
    "sp = np.fft.fft(donnees[:][0])\n",
    "#plt.plot(sp)\n",
    "t = list(range(2))\n",
    "print(t)\n",
    "sinus = np.sin(t)\n",
    "print(sinus)\n",
    "sp = np.fft.fft(sinus)\n",
    "print(sp)\n",
    "plt.plot(sp)"
   ]
  },
  {
   "cell_type": "code",
   "execution_count": 72,
   "metadata": {},
   "outputs": [],
   "source": [
    "from numpy.fft import fft,fftfreq\n",
    "from scipy.signal import spectrogram, hanning\n",
    "\n",
    "def spectre(signal):\n",
    "    _ , _,s = spectrogram(signal)\n",
    "    s=s[:,0]\n",
    "    return s\n",
    "def estimate_tf(matrice):\n",
    "    new_mat=[]\n",
    "    #matrice=np.swapaxes(matrice,0,1)\n",
    "    for ligne in matrice:\n",
    "        new_mat.append(spectre(ligne))\n",
    "    return new_mat\n",
    "def estimate_mult_matrice(data):\n",
    "    new_mat=[]\n",
    "    for matrice in data:\n",
    "        new_mat.append(estimate_tf(matrice))\n",
    "    return new_mat"
   ]
  },
  {
   "cell_type": "code",
   "execution_count": 73,
   "metadata": {},
   "outputs": [],
   "source": [
    "def cross_val_tf_perceptron(donnees,labels,nb_trail):\n",
    "    nb_paquet=int(len(donnees)/nb_trail)\n",
    "    donnees = donnees[:nb_trail*nb_paquet]\n",
    "    X=np.array(np.split(np.array(donnees), nb_paquet))#Ntrial*Nchannels*Nsample\n",
    "    X=np.swapaxes(X,1,2)\n",
    "    #estimer la matrice de covariance\n",
    "    tf_data = np.array(estimate_mult_matrice(X))\n",
    "    print(tf_data.shape)\n",
    "    tf_data=tf_data.reshape((tf_data.shape[0],tf_data.shape[1]*tf_data.shape[2]))\n",
    "    print(tf_data.shape)\n",
    "    #validation croisée\n",
    "    clf = SGDClassifier(loss=\"perceptron\", eta0=1e-4, learning_rate=\"constant\", penalty=None,tol=1e-1,max_iter=10000,shuffle=True)\n",
    "    #On modifie les y pour qu'il y est qu'un chiffre tout les 52 enregistrement, on prendra dans un premier temps juste\n",
    "    #le premier label sur les 52 pour estimer les 52 suivant\n",
    "    labels = labels[:nb_trail*nb_paquet]\n",
    "    yTemp = np.array(np.split(np.array(labels), nb_paquet))\n",
    "    Y=[]\n",
    "    for u in yTemp:\n",
    "        if(np.mean(u)>0):\n",
    "            Y.append(1)\n",
    "        else:\n",
    "            Y.append(-1)\n",
    "    Y=np.array(Y)\n",
    "    y_pred = cross_val_predict(clf,tf_data,Y,cv=5)\n",
    "    rapport = classification_report(Y, y_pred,output_dict=True)\n",
    "    return rapport['micro avg'][\"f1-score\"]"
   ]
  },
  {
   "cell_type": "code",
   "execution_count": 74,
   "metadata": {},
   "outputs": [
    {
     "name": "stdout",
     "output_type": "stream",
     "text": [
      "512\n",
      "(234, 16, 129)\n",
      "(234, 2064)\n",
      "F1 Score riemann : 0.43162393162393164\n",
      "51\n"
     ]
    },
    {
     "name": "stderr",
     "output_type": "stream",
     "text": [
      "/home/nicolas/envPythonML/lib/python3.6/site-packages/scipy/signal/spectral.py:1970: UserWarning: nperseg = 256 is greater than input length  = 51, using nperseg = 51\n",
      "  .format(nperseg, input_length))\n"
     ]
    },
    {
     "name": "stdout",
     "output_type": "stream",
     "text": [
      "(2349, 16, 26)\n",
      "(2349, 416)\n",
      "F1 Score riemann : 0.6564495530012772\n",
      "18\n"
     ]
    },
    {
     "name": "stderr",
     "output_type": "stream",
     "text": [
      "/home/nicolas/envPythonML/lib/python3.6/site-packages/scipy/signal/spectral.py:1970: UserWarning: nperseg = 256 is greater than input length  = 18, using nperseg = 18\n",
      "  .format(nperseg, input_length))\n"
     ]
    },
    {
     "name": "stdout",
     "output_type": "stream",
     "text": [
      "(6656, 16, 10)\n",
      "(6656, 160)\n",
      "F1 Score riemann : 0.6654146634615384\n"
     ]
    }
   ],
   "source": [
    "#512 Hz\n",
    "#On prend 52 trial par échantillon pour avoir un temps de reaction d'environ 0,1015625s\n",
    "#On supprime les derniers echantillons pour avoir un multiple de 52 et donc des matrices completes\n",
    "tab_trail=[]\n",
    "result_f1Score=[]\n",
    "#1 secondes -> 512 paquets\n",
    "#100ms=0,1s -> 51,2 paquets -> 51 paquets\n",
    "#10ms=0,01s -> 5,12 paquets -> 5 paquets\n",
    "for nb_trail in [512,51,18]:\n",
    "    print(nb_trail)\n",
    "    tab_trail.append(nb_trail)\n",
    "    f1Score = cross_val_tf_perceptron(donnees,labels,nb_trail)\n",
    "    result_f1Score.append(f1Score)\n",
    "    print(\"F1 Score riemann : \"+str(f1Score))"
   ]
  },
  {
   "cell_type": "code",
   "execution_count": 75,
   "metadata": {},
   "outputs": [
    {
     "data": {
      "image/png": "[encoded data removed]",
      "text/plain": [
       "<Figure size 432x288 with 1 Axes>"
      ]
     },
     "metadata": {
      "needs_background": "light"
     },
     "output_type": "display_data"
    }
   ],
   "source": [
    "plt.plot(tab_trail,result_f1Score,label=\"fourier_transform_perceptron\")\n",
    "plt.legend()\n",
    "plt.show()"
   ]
  },
  {
   "cell_type": "code",
   "execution_count": null,
   "metadata": {},
   "outputs": [],
   "source": []
  },
  {
   "cell_type": "code",
   "execution_count": null,
   "metadata": {},
   "outputs": [],
   "source": []
  }
 ],
 "metadata": {
  "kernelspec": {
   "display_name": "Python 3",
   "language": "python",
   "name": "python3"
  },
  "language_info": {
   "codemirror_mode": {
    "name": "ipython",
    "version": 3
   },
   "file_extension": ".py",
   "mimetype": "text/x-python",
   "name": "python",
   "nbconvert_exporter": "python",
   "pygments_lexer": "ipython3",
   "version": "3.6.7"
  }
 },
 "nbformat": 4,
 "nbformat_minor": 2
}
